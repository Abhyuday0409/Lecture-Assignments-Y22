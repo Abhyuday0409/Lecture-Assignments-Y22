{
 "cells": [
  {
   "cell_type": "markdown",
   "id": "69cdbecf",
   "metadata": {},
   "source": [
    "## Answer 1"
   ]
  },
  {
   "cell_type": "markdown",
   "id": "7da4a7a6",
   "metadata": {},
   "source": [
    "As we are using a full batch gradient descent on the entire training set, the order will not matter because we are going through the entire dataset in every iteration. Also, the operations we perform are commutative and hence their order does not matter.<br>It is worth noting that the statement is not true for Stochastic Gradient Descent."
   ]
  },
  {
   "cell_type": "markdown",
   "id": "9627ad66",
   "metadata": {},
   "source": [
    "## Answer 2"
   ]
  },
  {
   "cell_type": "code",
   "execution_count": 1,
   "id": "de009218",
   "metadata": {},
   "outputs": [],
   "source": [
    "import numpy as np\n",
    "import random\n",
    "from matplotlib import pyplot as plt"
   ]
  },
  {
   "cell_type": "code",
   "execution_count": 65,
   "id": "3841dee4",
   "metadata": {},
   "outputs": [],
   "source": [
    "def MSE(y, X, theta):\n",
    "    \n",
    "    \"\"\"\n",
    "    Parameters:\n",
    "    X: Numpy array of shape m x n+1(the dataset's features)\n",
    "    y: Numpy array of shape m, (the values of the function at the points present in the dataset)\n",
    "    theta: Numpy array of shape n+1, it has the parameters for the gradient descent function\n",
    "    \n",
    "    m: number of training data examples\n",
    "    n: Number of features\n",
    "    \n",
    "    Returns:\n",
    "    The method returns error(the training MSE for the dataset for the given value of theta)\n",
    "    \"\"\"\n",
    "\n",
    "    m = y.shape[0]\n",
    "    error = 0\n",
    "    \n",
    "    error = (1/(2 * m)) * np.sum(np.square(np.dot(X, theta) - y))\n",
    "    \n",
    "    return error"
   ]
  },
  {
   "cell_type": "code",
   "execution_count": 69,
   "id": "80192b10",
   "metadata": {},
   "outputs": [],
   "source": [
    "def gradientDescent(X, y, theta, alpha, n):\n",
    "    \"\"\"\n",
    "    Parameters:\n",
    "    X, y and theta are same as defined for the MSE method.\n",
    "    alpha is the learning rate\n",
    "    n is the number of iterations for which we will run the Gradient Descent method.\n",
    "    \n",
    "    Returns:\n",
    "    theta (The learned value of theta after linear regression) (Type: numpy array)\n",
    "    historyOfMSE (The value of MSE after every iteration) (Type: python list)\n",
    "    \"\"\"\n",
    "    m = y.shape[0]\n",
    "       \n",
    "    theta = theta.copy() #As we do not want to change the value of the theta passed as the paramter to the function. \n",
    "    \n",
    "    historyOfMSE = [] \n",
    "        \n",
    "    for i in range(n):\n",
    "        theta = theta - (alpha / m) * (np.dot(X, theta) - y).dot(X)\n",
    "        historyOfMSE.append(MSE(X,y,theta))\n",
    "        \n",
    "    return historyOfMSE, theta"
   ]
  },
  {
   "cell_type": "code",
   "execution_count": 122,
   "id": "34ccdbe1",
   "metadata": {},
   "outputs": [
    {
     "name": "stdout",
     "output_type": "stream",
     "text": [
      "Final value of theta is:\t [0.04641167 0.04760109]\n",
      "Final value of theta is:\t [0.17407314 0.19865745]\n",
      "Final value of theta is:\t [0.24868781 0.3275524 ]\n",
      "Final value of theta is:\t [0.06622182 0.89284879]\n"
     ]
    },
    {
     "data": {
      "text/plain": [
       "<matplotlib.legend.Legend at 0x2c487438430>"
      ]
     },
     "execution_count": 122,
     "metadata": {},
     "output_type": "execute_result"
    },
    {
     "data": {
      "image/png": "[encoded data removed]",
      "text/plain": [
       "<Figure size 432x288 with 1 Axes>"
      ]
     },
     "metadata": {
      "needs_background": "light"
     },
     "output_type": "display_data"
    }
   ],
   "source": [
    "\"\"\"\n",
    "Test1:\n",
    "Dataset:\n",
    "X = [[1,0],[1,1]]\n",
    "y = [0,1]\n",
    "We will take a random initial theta\n",
    "\n",
    "Expected theta(final) is [0,1]\n",
    "\"\"\"\n",
    "X1 = np.array([[1,0],[1,1]], dtype = 'float')\n",
    "y1 = np.array([0,1], dtype = 'float')\n",
    "\n",
    "theta1 = np.array([0,0])\n",
    "iters1 = 10000\n",
    "alpha1 = 0.00001\n",
    "\n",
    "\n",
    "history1, thetaF1 = gradientDescent(X1, y1, theta1, alpha1, iters1)\n",
    "history2, thetaF2 = gradientDescent(X1, y1, theta1, alpha1*5, iters1)\n",
    "history3, thetaF3 = gradientDescent(X1, y1, theta1, alpha1*10, iters1)\n",
    "history4, thetaF4 = gradientDescent(X1, y1, theta1, alpha1*100, iters1)\n",
    "\n",
    "print(\"Final value of theta is:\\t\",thetaF1)\n",
    "print(\"Final value of theta is:\\t\",thetaF2)\n",
    "print(\"Final value of theta is:\\t\",thetaF3)\n",
    "print(\"Final value of theta is:\\t\",thetaF4)\n",
    "\n",
    "plt.plot(history1,label = \"alpha = 0.001\")\n",
    "plt.plot(history2,label = \"alpha = 0.005\")\n",
    "plt.plot(history3,label = \"alpha = 0.01\")\n",
    "plt.plot(history4,label = \"alpha = 0.1\")\n",
    "\n",
    "plt.legend()"
   ]
  },
  {
   "cell_type": "markdown",
   "id": "fd5613f1",
   "metadata": {},
   "source": [
    "If the learning rate is too large, MSE can diverge and even ‘blow up’, resulting in values which are too large for computer calculations(produces NaN in Numpy). In these situations, one should reduce the learning rate.<br>\n",
    "A minimum number of iterations are required to reach the optimal value of theta."
   ]
  },
  {
   "cell_type": "markdown",
   "id": "5c83bad7",
   "metadata": {},
   "source": [
    "## Answer 3"
   ]
  },
  {
   "cell_type": "markdown",
   "id": "7109aecc",
   "metadata": {},
   "source": [
    "$$ E(y_{o} - \\hat{f}(x_{o}))^{2} = Var(\\hat{f}(x_{o})) + [Bias(\\hat{f}(x_{o}))]^{2} + Var(\\xi) $$ \n",
    "***\n",
    "Bias: It is the error introduced when one attempts to approximate a complicated function with a relatively simpler one. The bias decreases with increase in the flexibility of the function.(Basically how good is the function on the training data)<br>\n",
    "Variance: It refers to the amount by which f will change upon changing the training dataset.(Basically how much the function depends on every single variable on the training data)\n",
    "***\n",
    "In a training dataset, as the flexibility is increased, the function tries to mimic the behaviour of the test data as closely as possible therefore reducing the bias but this also results in it finding patterns and relationships which actually don't exist and hence increases the variance. So while choosing the correct function to use on the data type one needs to optimise the flexibility such that total of variance and bias is minimised. This effect of flexibility on the accuracy of the model is known as the Bias Variance tradeoff."
   ]
  }
 ],
 "metadata": {
  "kernelspec": {
   "display_name": "Python 3 (ipykernel)",
   "language": "python",
   "name": "python3"
  },
  "language_info": {
   "codemirror_mode": {
    "name": "ipython",
    "version": 3
   },
   "file_extension": ".py",
   "mimetype": "text/x-python",
   "name": "python",
   "nbconvert_exporter": "python",
   "pygments_lexer": "ipython3",
   "version": "3.9.7"
  }
 },
 "nbformat": 4,
 "nbformat_minor": 5
}
