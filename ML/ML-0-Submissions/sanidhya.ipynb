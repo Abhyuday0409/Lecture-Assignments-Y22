{
 "cells": [
  {
   "cell_type": "markdown",
   "metadata": {},
   "source": [
    "**Answer 1:**\n",
    "\n",
    "In full batch gradient descent, we use the entirety of the dataset at once for training the model and hence their order is irrelevant. If we had subgrouped the data and trained the model in those groups, then for the purpose of the composition of the group, order would have had effects on the results we would obtain."
   ]
  },
  {
   "cell_type": "markdown",
   "metadata": {},
   "source": [
    "**Answer 2:**"
   ]
  },
  {
   "cell_type": "code",
   "execution_count": 29,
   "metadata": {},
   "outputs": [],
   "source": [
    "import numpy as np\n",
    "import random\n",
    "import matplotlib.pyplot as pyplot"
   ]
  },
  {
   "cell_type": "code",
   "execution_count": 30,
   "metadata": {},
   "outputs": [],
   "source": [
    "data = np.array([[1,2],[2,4.5],[3.5,8],[5,11],[6,20],[7,15],[8,18],[9,24],[10,30],[12,42]])\n",
    "xarr=np.array([])\n",
    "yarr=np.array([])"
   ]
  },
  {
   "cell_type": "code",
   "execution_count": 31,
   "metadata": {},
   "outputs": [],
   "source": [
    "#finding all the required coefficients for gradient calculation\n",
    "xsum,ysum,xysum,x2sum = 0,0,0,0\n",
    "for i in data:\n",
    "    xsum += i[0]\n",
    "    ysum += i[1]\n",
    "    xysum += i[0]*i[1]\n",
    "    x2sum += i[0]**2\n",
    "    xarr = np.append(xarr, i[0])\n",
    "    yarr = np.append(yarr, i[1])\n",
    "n = data.size"
   ]
  },
  {
   "cell_type": "code",
   "execution_count": 32,
   "metadata": {},
   "outputs": [],
   "source": [
    "def pred(x,slope,y_int):\n",
    "    return (slope*x+y_int)\n",
    "\n",
    "def error(arr,slope,y_int):\n",
    "    error = 0\n",
    "    for i in arr:\n",
    "        error += (pred(i[0],slope,y_int)-i[1])**2\n",
    "    error /= arr.size\n",
    "    return error"
   ]
  },
  {
   "cell_type": "code",
   "execution_count": 33,
   "metadata": {},
   "outputs": [],
   "source": [
    "#y=mx+c\n",
    "c = m = random.randint(0,10)"
   ]
  },
  {
   "cell_type": "code",
   "execution_count": 34,
   "metadata": {},
   "outputs": [],
   "source": [
    "#gradient calculation and main model formulation\n",
    "mrate = 0.01\n",
    "crate = 0.01\n",
    "mingrad = 10**(-5)\n",
    "gradient = [mingrad+1,mingrad+1]\n",
    "er_arr=np.array([error(data,m,c)])\n",
    "while(gradient[0]>mingrad or gradient[1]>mingrad):\n",
    "    dm = (2*m*x2sum + 2*c*xsum - 2*xysum)/n\n",
    "    dc = (2*c*n+2*m*xsum-2*ysum)/n\n",
    "    gradient[0],gradient[1] = dm,dc\n",
    "    m -= mrate*gradient[0]\n",
    "    c -= crate*gradient[1]\n",
    "    er_arr = np.append(er_arr, error(data,m,c))"
   ]
  },
  {
   "cell_type": "code",
   "execution_count": 35,
   "metadata": {},
   "outputs": [
    {
     "data": {
      "image/png": "[encoded data removed]",
      "text/plain": [
       "<Figure size 432x288 with 2 Axes>"
      ]
     },
     "metadata": {
      "needs_background": "light"
     },
     "output_type": "display_data"
    }
   ],
   "source": [
    "#plotting the results in matplotlib\n",
    "fig , (ax1,ax2) = pyplot.subplots(1,2)\n",
    "fig.suptitle('Linear Regeression using Gradient Descent')\n",
    "ax1.scatter(xarr,yarr,marker=\"x\",color='orange')\n",
    "ax1.plot(xarr,m*xarr+c,linewidth=3,label='Best Fit Line',color='blue')\n",
    "ax1.set_title('Data Set and Line')\n",
    "ax1.set_xlabel('x')\n",
    "ax1.set_ylabel('y')\n",
    "ax1.legend()\n",
    "\n",
    "er_x=np.arange(1, er_arr.size+1)\n",
    "ax2.plot(er_x,er_arr,linewidth=3,color='red')\n",
    "ax2.set_title('Evolution of Error with Iterations')\n",
    "ax2.set_xlabel('Number of Iterations')\n",
    "ax2.set_ylabel('Error')\n",
    "pyplot.show()"
   ]
  },
  {
   "cell_type": "markdown",
   "metadata": {},
   "source": [
    "**Answer 3:**\n",
    "\n",
    "Bias and Variance are both measures/terms which are based on the selection of the model and/or their flexibility which decides how much the model can set onto the training data. \n",
    "\n",
    "Variance is basically a mathematical depiction of how much the model depends on a single data from training data, basically how much the model would change when any single datavalue is changed. High variance would mean the model changes a highly significantly on the change of a single datavalue (this obviously is not an ideal condition as we would prefer our models to more generalised whereas a lower variance would reflect a lack of high dependence of the model on the values. \n",
    "\n",
    "But the extent of generalisation also needs to be modulated and a lot of times it would need to capped at a particular point because extremely higher generalisation would mean that the model is moving considerably away from the actual values which in statistical terms would mean a higher bias which is also not ideal. Bias basically is the measure of the error induced due to the higher generalisation of a complex or inexisting relation.\n",
    "\n",
    "A model with high variance and low bias would reflect an overfitting situation whereas one with extremely low variance and very high bias would mean an underfitting situation.\n",
    "\n",
    "The thing of desire is a model with low variance and low bias which is not the easiest task as explained above because the decrease in one corresponds to the increase in other.\n",
    "\n",
    "\n",
    "*(disclaimer: I still haven't completely read the first 2 chapters of ISLR)*"
   ]
  }
 ],
 "metadata": {
  "kernelspec": {
   "display_name": "Python 3",
   "language": "python",
   "name": "python3"
  },
  "language_info": {
   "codemirror_mode": {
    "name": "ipython",
    "version": 3
   },
   "file_extension": ".py",
   "mimetype": "text/x-python",
   "name": "python",
   "nbconvert_exporter": "python",
   "pygments_lexer": "ipython3",
   "version": "3.7.0"
  }
 },
 "nbformat": 4,
 "nbformat_minor": 2
}
