{
 "cells": [
  {
   "cell_type": "markdown",
   "id": "8031be9f",
   "metadata": {},
   "source": [
    "**ANSWER 1**\n",
    "\n",
    "It's not necessary to shuffle the training dataset as full batch gradient descent makes use of the entire dataset and every single iteration has the mean of all gradients so the data being shuffled or unshuffled doesn't effect the model."
   ]
  },
  {
   "cell_type": "code",
   "execution_count": 31,
   "id": "87decf86",
   "metadata": {},
   "outputs": [],
   "source": [
    "import numpy as np\n",
    "import pandas as pd\n",
    "import matplotlib.pyplot as pyplot"
   ]
  },
  {
   "cell_type": "code",
   "execution_count": 32,
   "id": "459817fc",
   "metadata": {},
   "outputs": [
    {
     "name": "stdout",
     "output_type": "stream",
     "text": [
      "15\n",
      "15\n"
     ]
    },
    {
     "data": {
      "text/plain": [
       "<matplotlib.collections.PathCollection at 0x269ae53e7c0>"
      ]
     },
     "execution_count": 32,
     "metadata": {},
     "output_type": "execute_result"
    },
    {
     "data": {
      "image/png": "[encoded data removed]",
      "text/plain": [
       "<Figure size 432x288 with 1 Axes>"
      ]
     },
     "metadata": {
      "needs_background": "light"
     },
     "output_type": "display_data"
    }
   ],
   "source": [
    "x = np.array([1,2,3,4,5,6,7,8,9,10,11,13,13,14,15])\n",
    "y = np.array([3,5,7,9,10,12,8,16,18,19,21,20,24,22,24])\n",
    "print(x.size)\n",
    "print(y.size)\n",
    "pyplot.scatter(x,y)"
   ]
  },
  {
   "cell_type": "code",
   "execution_count": 33,
   "id": "3427f310",
   "metadata": {},
   "outputs": [
    {
     "data": {
      "text/plain": [
       "15"
      ]
     },
     "execution_count": 33,
     "metadata": {},
     "output_type": "execute_result"
    }
   ],
   "source": [
    "def y_pred(m,x,b):\n",
    "    return (m*x+b)\n",
    "n = x.size\n",
    "n"
   ]
  },
  {
   "cell_type": "code",
   "execution_count": 34,
   "id": "7605236e",
   "metadata": {},
   "outputs": [
    {
     "name": "stdout",
     "output_type": "stream",
     "text": [
      "121 24 225 360\n"
     ]
    }
   ],
   "source": [
    "# Using the result of gradient Descent \n",
    "x1_sum , y1_sum ,x2_sum , x1y1_sum = 0, 0, 0, 0;\n",
    "for i in range(n):\n",
    "  x1_sum += x[i]\n",
    "  y1_sum = y[i]\n",
    "  x2_sum = x[i]*x[i]\n",
    "  x1y1_sum = x[i]*y[i]\n",
    "print(x1_sum,y1_sum,x2_sum,x1y1_sum)"
   ]
  },
  {
   "cell_type": "code",
   "execution_count": null,
   "id": "49eabb52",
   "metadata": {},
   "outputs": [],
   "source": [
    "iterations = 10000\n",
    "l_rate = 0.00001\n",
    "prev_cost = 1e6\n",
    "m = 7\n",
    "b = 7\n",
    "itr = 0\n",
    "for itr in range(iterations):\n",
    "    grad0 = (2/n)*((m*x1_sum)+(b*n)-(y1_sum));\n",
    "    grad1 = (2/n)*((m*x2_sum)+(b*x1_sum)-(x1y1_sum));\n",
    "    temp0 = b - (l_rate*grad0)\n",
    "    temp1 = m - (l_rate*grad1)\n",
    "    b = temp0\n",
    "    m = temp1\n",
    "    error = 0\n",
    "    for i in range(n):\n",
    "      error+=(y_pred(m,x[i],b)-y[i])**2;\n",
    "    cost = error/(2*n) ;\n",
    "    print(\"m {},b {},error {},iteration {}\".format(m,b,cost,itr+1))\n",
    "#     cost_set = []\n",
    "#     cost_set = np.append(cost_set,cost)\n",
    "#     itr_set =  np.append(itr_set,itr)\n",
    "    if (prev_cost-cost<0):\n",
    "        break;\n",
    "    prev_cost = cost;\n",
    "    \n",
    "print(m,b);  \n",
    "    "
   ]
  },
  {
   "cell_type": "code",
   "execution_count": 36,
   "id": "e1cc8a30",
   "metadata": {},
   "outputs": [
    {
     "data": {
      "text/plain": [
       "Text(0, 0.5, 'y')"
      ]
     },
     "execution_count": 36,
     "metadata": {},
     "output_type": "execute_result"
    },
    {
     "data": {
      "image/png": "[encoded data removed]",
      "text/plain": [
       "<Figure size 432x288 with 1 Axes>"
      ]
     },
     "metadata": {
      "needs_background": "light"
     },
     "output_type": "display_data"
    }
   ],
   "source": [
    "pyplot.scatter(x,y ,color = \"Orange\")\n",
    "pyplot.plot(x,m*x+b)\n",
    "pyplot.xlabel(\"x\")\n",
    "pyplot.ylabel(\"y\")\n"
   ]
  },
  {
   "cell_type": "markdown",
   "id": "61bbae2f",
   "metadata": {},
   "source": []
  },
  {
   "cell_type": "code",
   "execution_count": null,
   "id": "5eb21aaf",
   "metadata": {},
   "outputs": [],
   "source": [
    "***ANSWER 3 ***\n",
    "   Bias can be best described as the difference between the actual prediction of our model to the correct \n",
    "    value trying to predict. A model with high bias might pay very little attention to the training data and hence it \n",
    "    rather oversimplifies the model. Such a model will always lead to high errors in training and test data.\n",
    "    Variance: Variance is the complete opposite of Bias. During training, the created model is allowed to inspect and search\n",
    "    the data a certain number of times to find patterns in it. If it cannot work properly on the data for long enough,\n",
    "    it will not find patterns and bias occurs. But if the model is allowed to search the data too many times, it will \n",
    "    learn very well for only that particular data and can also learn from unnecessary data present . The higher variance model be\n",
    "    the more complex problem the model will be suited to but at the same time can produce overfitting to simple data.\n",
    "    Low variance denotes small changes in model with changing to dataset.\n",
    "    When we modify the ML algorithm to better fit a given data set, it will in turn lead to low bias but will increase\n",
    "    the variance. This way, the model will fit with the data set while increasing the chances of inaccurate predictions.\n",
    "    The same applies while creating a low variance model with a higher bias."
   ]
  },
  {
   "cell_type": "code",
   "execution_count": null,
   "id": "49554ed2",
   "metadata": {},
   "outputs": [],
   "source": []
  },
  {
   "cell_type": "code",
   "execution_count": null,
   "id": "2e8b33af",
   "metadata": {},
   "outputs": [],
   "source": []
  }
 ],
 "metadata": {
  "kernelspec": {
   "display_name": "Python 3 (ipykernel)",
   "language": "python",
   "name": "python3"
  },
  "language_info": {
   "codemirror_mode": {
    "name": "ipython",
    "version": 3
   },
   "file_extension": ".py",
   "mimetype": "text/x-python",
   "name": "python",
   "nbconvert_exporter": "python",
   "pygments_lexer": "ipython3",
   "version": "3.9.7"
  }
 },
 "nbformat": 4,
 "nbformat_minor": 5
}
