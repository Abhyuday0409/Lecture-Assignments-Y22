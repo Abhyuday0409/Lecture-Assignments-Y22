{
 "cells": [
  {
   "cell_type": "code",
   "execution_count": 1,
   "id": "6ad75284",
   "metadata": {},
   "outputs": [],
   "source": [
    "import pandas as pd\n",
    "import numpy as np\n",
    "import matplotlib.pyplot as plt\n",
    "%matplotlib inline"
   ]
  },
  {
   "cell_type": "code",
   "execution_count": 2,
   "id": "6f4dc374",
   "metadata": {},
   "outputs": [],
   "source": [
    "dataset = pd.read_csv(r'./student_scores.csv')"
   ]
  },
  {
   "cell_type": "code",
   "execution_count": 3,
   "id": "5a1a76f1",
   "metadata": {},
   "outputs": [
    {
     "data": {
      "text/html": [
       "<div>\n",
       "<style scoped>\n",
       "    .dataframe tbody tr th:only-of-type {\n",
       "        vertical-align: middle;\n",
       "    }\n",
       "\n",
       "    .dataframe tbody tr th {\n",
       "        vertical-align: top;\n",
       "    }\n",
       "\n",
       "    .dataframe thead th {\n",
       "        text-align: right;\n",
       "    }\n",
       "</style>\n",
       "<table border=\"1\" class=\"dataframe\">\n",
       "  <thead>\n",
       "    <tr style=\"text-align: right;\">\n",
       "      <th></th>\n",
       "      <th>Hours</th>\n",
       "      <th>Scores</th>\n",
       "    </tr>\n",
       "  </thead>\n",
       "  <tbody>\n",
       "    <tr>\n",
       "      <th>0</th>\n",
       "      <td>2.5</td>\n",
       "      <td>21</td>\n",
       "    </tr>\n",
       "    <tr>\n",
       "      <th>1</th>\n",
       "      <td>5.1</td>\n",
       "      <td>47</td>\n",
       "    </tr>\n",
       "    <tr>\n",
       "      <th>2</th>\n",
       "      <td>3.2</td>\n",
       "      <td>27</td>\n",
       "    </tr>\n",
       "    <tr>\n",
       "      <th>3</th>\n",
       "      <td>8.5</td>\n",
       "      <td>75</td>\n",
       "    </tr>\n",
       "    <tr>\n",
       "      <th>4</th>\n",
       "      <td>3.5</td>\n",
       "      <td>30</td>\n",
       "    </tr>\n",
       "  </tbody>\n",
       "</table>\n",
       "</div>"
      ],
      "text/plain": [
       "   Hours  Scores\n",
       "0    2.5      21\n",
       "1    5.1      47\n",
       "2    3.2      27\n",
       "3    8.5      75\n",
       "4    3.5      30"
      ]
     },
     "execution_count": 3,
     "metadata": {},
     "output_type": "execute_result"
    }
   ],
   "source": [
    "dataset.head()"
   ]
  },
  {
   "cell_type": "code",
   "execution_count": 4,
   "id": "db47c762",
   "metadata": {},
   "outputs": [],
   "source": [
    "x_points = dataset['Hours'].to_numpy()\n",
    "y_points = dataset['Scores'].to_numpy()"
   ]
  },
  {
   "cell_type": "code",
   "execution_count": 5,
   "id": "20e95d0e",
   "metadata": {},
   "outputs": [
    {
     "data": {
      "text/plain": [
       "(25,)"
      ]
     },
     "execution_count": 5,
     "metadata": {},
     "output_type": "execute_result"
    }
   ],
   "source": [
    "x_points.shape"
   ]
  },
  {
   "cell_type": "code",
   "execution_count": 6,
   "id": "44313e5c",
   "metadata": {},
   "outputs": [],
   "source": [
    "epsilon = 1e-7\n",
    "learning_rates = [0.001,0.005,0.01]\n",
    "lri = 0.05 "
   ]
  },
  {
   "cell_type": "code",
   "execution_count": 7,
   "id": "dec06c74",
   "metadata": {
    "scrolled": true
   },
   "outputs": [
    {
     "data": {
      "text/plain": [
       "[<matplotlib.lines.Line2D at 0x7f227a32d430>]"
      ]
     },
     "execution_count": 7,
     "metadata": {},
     "output_type": "execute_result"
    },
    {
     "data": {
      "image/png": "[encoded data removed]",
      "text/plain": [
       "<Figure size 432x288 with 1 Axes>"
      ]
     },
     "metadata": {
      "needs_background": "light"
     },
     "output_type": "display_data"
    }
   ],
   "source": [
    "plt.plot(x_points, y_points, 'bo')"
   ]
  },
  {
   "cell_type": "code",
   "execution_count": 8,
   "id": "43218dc2",
   "metadata": {},
   "outputs": [],
   "source": [
    "np.random.seed(0)"
   ]
  },
  {
   "cell_type": "code",
   "execution_count": 9,
   "id": "fd22cadf",
   "metadata": {},
   "outputs": [],
   "source": [
    "wn = np.random.randn()#value wont fluctuate more \n",
    "bn = np.random.randn()"
   ]
  },
  {
   "cell_type": "code",
   "execution_count": 10,
   "id": "a442b3a2",
   "metadata": {},
   "outputs": [],
   "source": [
    "def linear_model(x,w,b):\n",
    "    y_h = x*w + b\n",
    "    return y_h"
   ]
  },
  {
   "cell_type": "code",
   "execution_count": 11,
   "id": "b8f633c7",
   "metadata": {},
   "outputs": [],
   "source": [
    "def loss_fun(x, w, b):\n",
    "    y_h = linear_model(x, w, b)\n",
    "    n = len(y_h)\n",
    "    err = (1/(2*n))*np.dot((y_h - y_points).T, (y_h - y_points))\n",
    "    return err"
   ]
  },
  {
   "cell_type": "code",
   "execution_count": 13,
   "id": "70571b77",
   "metadata": {},
   "outputs": [],
   "source": [
    "def differentiation_1st_principle(x_points, w, b):\n",
    "    y_h1 = loss_fun(x_points, w+epsilon, b)\n",
    "    y_h2 = loss_fun(x_points, w, b)\n",
    "    gradient = (y_h1 - y_h2)/epsilon\n",
    "    y_h1 = loss_fun(x_points, w, b+epsilon)\n",
    "    y_h2 = loss_fun(x_points, w, b)\n",
    "    gradient2 = (y_h1 - y_h2)/epsilon\n",
    "    t1 = (gradient, gradient2)\n",
    "    return t1"
   ]
  },
  {
   "cell_type": "code",
   "execution_count": 14,
   "id": "7e60aff6",
   "metadata": {},
   "outputs": [],
   "source": [
    "def change_wb(x_points, w, b,learning_rate):\n",
    "    dw,db = differentiation_1st_principle(x_points, w, b)\n",
    "    w = w - learning_rate*dw\n",
    "    b = b - learning_rate*db\n",
    "    return w,b"
   ]
  },
  {
   "cell_type": "code",
   "execution_count": 15,
   "id": "241aae77",
   "metadata": {},
   "outputs": [],
   "source": [
    "wsn = [wn]\n",
    "lsn = [loss_fun(x_points,wn,bn)]\n",
    "for i in range(50):\n",
    "    wn,bn = change_wb(x_points, wn, bn,lri)\n",
    "    y = linear_model(x_points,wn,bn)\n",
    "    loss = loss_fun(x_points,wn,bn)\n",
    "    wsn.append(wn)\n",
    "    lsn.append(loss)"
   ]
  },
  {
   "cell_type": "code",
   "execution_count": 16,
   "id": "c25b77f4",
   "metadata": {},
   "outputs": [
    {
     "data": {
      "text/plain": [
       "[<matplotlib.lines.Line2D at 0x7f2279a5a370>]"
      ]
     },
     "execution_count": 16,
     "metadata": {},
     "output_type": "execute_result"
    },
    {
     "data": {
      "image/png": "[encoded data removed]",
      "text/plain": [
       "<Figure size 432x288 with 1 Axes>"
      ]
     },
     "metadata": {
      "needs_background": "light"
     },
     "output_type": "display_data"
    }
   ],
   "source": [
    "plt.plot(ws,ls)\n",
    "plt.plot(wsn,lsn)"
   ]
  },
  {
   "cell_type": "code",
   "execution_count": 17,
   "id": "061e6b0b",
   "metadata": {},
   "outputs": [],
   "source": [
    "lrs = []\n",
    "for lr in learning_rates:\n",
    "    w = np.random.randn()\n",
    "    b = np.random.randn()\n",
    "    errors = [loss_fun(x_points,w,b)]\n",
    "    for i in range(50):\n",
    "        w,b = change_wb(x_points, w, b,lr)\n",
    "        y = linear_model(x_points,w,b)\n",
    "        loss = loss_fun(x_points,w,b)\n",
    "        errors.append(loss)\n",
    "    lrs.append(errors)"
   ]
  },
  {
   "cell_type": "code",
   "execution_count": 22,
   "id": "54028cc4",
   "metadata": {},
   "outputs": [
    {
     "data": {
      "image/png": "[encoded data removed]",
      "text/plain": [
       "<Figure size 432x288 with 1 Axes>"
      ]
     },
     "metadata": {
      "needs_background": "light"
     },
     "output_type": "display_data"
    }
   ],
   "source": [
    "plt.plot(x_points,y_points,'bo')#make points otherwise won't get output as discrete\n",
    "plt.plot(x_points,y)\n",
    "plt.xlabel(\"Hours\")\n",
    "plt.ylabel(\"Scores\")\n",
    "plt.show()"
   ]
  },
  {
   "cell_type": "code",
   "execution_count": 18,
   "id": "934ae15c",
   "metadata": {},
   "outputs": [
    {
     "data": {
      "image/png": "[encoded data removed]",
      "text/plain": [
       "<Figure size 432x288 with 1 Axes>"
      ]
     },
     "metadata": {
      "needs_background": "light"
     },
     "output_type": "display_data"
    }
   ],
   "source": [
    "for er in lrs:\n",
    "    plt.plot(er)\n",
    "plt.xlabel(\"Iterations\")\n",
    "plt.ylabel(\"Loss\")\n",
    "plt.legend([\"0.001\",\"0.005\",\"0.01\"])\n",
    "plt.show()"
   ]
  },
  {
   "cell_type": "code",
   "execution_count": null,
   "id": "ae20ce34",
   "metadata": {},
   "outputs": [],
   "source": []
  }
 ],
 "metadata": {
  "kernelspec": {
   "display_name": "Python 3 (ipykernel)",
   "language": "python",
   "name": "python3"
  },
  "language_info": {
   "codemirror_mode": {
    "name": "ipython",
    "version": 3
   },
   "file_extension": ".py",
   "mimetype": "text/x-python",
   "name": "python",
   "nbconvert_exporter": "python",
   "pygments_lexer": "ipython3",
   "version": "3.8.13"
  }
 },
 "nbformat": 4,
 "nbformat_minor": 5
}
