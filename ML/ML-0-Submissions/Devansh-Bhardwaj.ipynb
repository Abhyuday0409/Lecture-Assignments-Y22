{
 "cells": [
  {
   "cell_type": "markdown",
   "id": "a8ae319c",
   "metadata": {},
   "source": []
  },
  {
   "cell_type": "markdown",
   "id": "3dbd5e6d",
   "metadata": {},
   "source": [
    "Answer 1: while implementing gradient descent it doesn't matter which training example occurs in what order, for example in linear regression the cost function is given by summation of (h(theta) - y)^2/2*no.of examples), since it is a summation therefore it doesn't matter wether a certain example occurs at any position, but in case of a stochastic batch gradient descent, since the entire dataset is divided in different sub sets and in them full batch gradient descent is implemented, therefore in this case shuffeling is essential."
   ]
  },
  {
   "cell_type": "code",
   "execution_count": 57,
   "id": "43b34a86",
   "metadata": {},
   "outputs": [],
   "source": [
    "import numpy as np\n",
    "import pandas as pd\n",
    "from sklearn import model_selection as lr\n",
    "from matplotlib import pyplot as plt\n",
    "data = pd.read_csv('test.csv')"
   ]
  },
  {
   "cell_type": "code",
   "execution_count": 58,
   "id": "e1f7bd66",
   "metadata": {},
   "outputs": [
    {
     "name": "stdout",
     "output_type": "stream",
     "text": [
      "      x          y\n",
      "0    77  79.775152\n",
      "1    21  23.177279\n",
      "2    22  25.609262\n",
      "3    20  17.857388\n",
      "4    36  41.849864\n",
      "..   ..        ...\n",
      "295  71  68.545888\n",
      "296  46  47.334876\n",
      "297  55  54.090637\n",
      "298  62  63.297171\n",
      "299  47  52.459467\n",
      "\n",
      "[300 rows x 2 columns]\n"
     ]
    }
   ],
   "source": [
    "dataset = data\n",
    "print(data)"
   ]
  },
  {
   "cell_type": "code",
   "execution_count": 59,
   "id": "b387499e",
   "metadata": {},
   "outputs": [],
   "source": [
    "x = data.iloc[:,0].values\n",
    "y = data.iloc[:,1].values"
   ]
  },
  {
   "cell_type": "code",
   "execution_count": 60,
   "id": "59d7b68a",
   "metadata": {},
   "outputs": [],
   "source": [
    "x_train,x_test,y_train,y_test = lr.train_test_split(x,y,test_size = 0.7)"
   ]
  },
  {
   "cell_type": "code",
   "execution_count": 61,
   "id": "9a4ac139",
   "metadata": {},
   "outputs": [],
   "source": [
    "m = y_train.size"
   ]
  },
  {
   "cell_type": "code",
   "execution_count": 62,
   "id": "2041f4bb",
   "metadata": {},
   "outputs": [
    {
     "data": {
      "text/plain": [
       "array([ 87,  59,   4,  62,  32,  69, 100,  65,  87,  44,  58,  61,  60,\n",
       "        87,  14,  73,  43,  94,  33,  68,  21,  58,  31,  40,  48,  48,\n",
       "        27,  27,  46,  97,  25,  72,  79,  77,  77,  32,  73,  45,  12,\n",
       "        46,  53,  78,  80,  55,  56,   4,  13,  41,  59,  18,  39,  58,\n",
       "        16,  19,  16,  93,  64,  82,   0,   5,  78,  19,  69,  96,  56,\n",
       "        72,  94,  71,  64,   9,  13,  13,  14,  90,  99,  92,  17,  64,\n",
       "        66,  21,  23,  34,  51,  37,  91,  47,  65,  54,  55,  16,  41,\n",
       "        77,  40,  15,  21,  32,  74,   2,  19,  60,  37,  28,  75,  61,\n",
       "        72,  80,  53,  12,  97,  23,  89,   0,  25,  37,  13,  96,  43,\n",
       "        65,  70,  68,  59,  23,  36,  12,  97,  71,  91,  46,  33,   5,\n",
       "        30,   1,   4,  60,  91,  31,  12,  39,   7,  53,  90,  78,  42,\n",
       "        93,  57,  29,  96,  89,  38,  84,  95,   6,  35,  84,  46,  59,\n",
       "        26,   2,  88,  51,  21,  82,  82,  76,  17,  63,  73,  28,  55,\n",
       "        33,  12,  13,  46,  67,  61,  63,  88,  28,  42,  54,  15,  58,\n",
       "        74,  64,  20, 100,  76,  50,  89,  35, 100,  39,  21,  89,  72,\n",
       "        22,  65,   5,  14,  56,  19,  40,  86,  59,  81,   4,  69,  47,\n",
       "        44,   8])"
      ]
     },
     "execution_count": 62,
     "metadata": {},
     "output_type": "execute_result"
    }
   ],
   "source": [
    "x_test"
   ]
  },
  {
   "cell_type": "code",
   "execution_count": 63,
   "id": "de743eb8",
   "metadata": {},
   "outputs": [
    {
     "data": {
      "text/plain": [
       "(90, 2)"
      ]
     },
     "execution_count": 63,
     "metadata": {},
     "output_type": "execute_result"
    }
   ],
   "source": [
    "X = np.array([np.ones(m),x_train]).reshape(m,2)\n",
    "Y = np.array(y_train).reshape(-1,1)\n",
    "X.shape"
   ]
  },
  {
   "cell_type": "code",
   "execution_count": 64,
   "id": "fe65d233",
   "metadata": {},
   "outputs": [],
   "source": [
    "def Cost(X,y,theta,m):\n",
    "    J = 0\n",
    "    J = (1/(2*m))*np.sum(np.square(np.dot(X,theta)-y))\n",
    "    return J"
   ]
  },
  {
   "cell_type": "code",
   "execution_count": 65,
   "id": "7c85085c",
   "metadata": {},
   "outputs": [],
   "source": [
    "def R_square(y_t,y_p):\n",
    "    y_mean = np.sum(y_t)/y_t.size\n",
    "    r = 1 - (np.sum(np.square(y_t-y_p))/np.sum(np.square(y_t-y_mean)))\n",
    "    return r"
   ]
  },
  {
   "cell_type": "code",
   "execution_count": 66,
   "id": "58cdc814",
   "metadata": {},
   "outputs": [],
   "source": [
    "def MSR(y_t,y_p):\n",
    "    r = np.sum(np.square(y_t-y_p))/y_t.size\n",
    "    return r"
   ]
  },
  {
   "cell_type": "code",
   "execution_count": 67,
   "id": "14f7dcd6",
   "metadata": {},
   "outputs": [],
   "source": [
    "def predict(x,theta):\n",
    "    y = theta[1]*x - theta[0]\n",
    "    return y"
   ]
  },
  {
   "cell_type": "code",
   "execution_count": 68,
   "id": "96299fcc",
   "metadata": {},
   "outputs": [],
   "source": [
    "def Model(X,Y,m,itr,x_test,y_test,y_train):\n",
    "    t = [0,0]\n",
    "    theta = np.array(t).reshape(-1,1)\n",
    "    for i in range(itr):\n",
    "        theta = theta - 0.0001*(1/m)*np.dot(np.transpose(X),(np.dot(X,theta)-Y))\n",
    "    y_p_train = np.empty((0,1),float)\n",
    "    for i in range(x_train.size):\n",
    "        y_p_train = np.append(y_p_train,predict(x_train[i],theta))\n",
    "    y_p_test = np.empty((0,1),float)\n",
    "    for i in range(x_test.size):\n",
    "        y_p_test = np.append(y_p_test,predict(x_test[i],theta))\n",
    "    err_train = MSR(y_train,y_p_train)\n",
    "    err_test = MSR(y_test,y_p_test)\n",
    "    return err_test, err_train"
   ]
  },
  {
   "cell_type": "code",
   "execution_count": 71,
   "id": "a5ce17bf",
   "metadata": {},
   "outputs": [],
   "source": [
    "err_test = []\n",
    "err_train = []\n",
    "itr = []\n",
    "for i in range (1,101):\n",
    "    itr.append(i)\n",
    "for j in range (0,100):\n",
    "    x1, x2 = Model(X,Y,m,itr[j],x_test,y_test,y_train)\n",
    "    err_test.append(x1)\n",
    "    err_train.append(x2)"
   ]
  },
  {
   "cell_type": "code",
   "execution_count": 72,
   "id": "d126942c",
   "metadata": {},
   "outputs": [
    {
     "data": {
      "text/plain": [
       "[<matplotlib.lines.Line2D at 0x7f1dcb236fa0>]"
      ]
     },
     "execution_count": 72,
     "metadata": {},
     "output_type": "execute_result"
    },
    {
     "data": {
      "image/png": "[encoded data removed]",
      "text/plain": [
       "<Figure size 432x288 with 1 Axes>"
      ]
     },
     "metadata": {
      "needs_background": "light"
     },
     "output_type": "display_data"
    }
   ],
   "source": [
    "plt.plot(itr,err_test,color = 'red', linewidth = 3, label = 'line1')\n",
    "plt.plot(itr,err_train,color = 'green', linewidth = 3, label = 'line2')"
   ]
  },
  {
   "cell_type": "markdown",
   "id": "24b31b31",
   "metadata": {},
   "source": [
    "the above graph shows how error in the test data and train data changes with change in no. of iterations. I we choose the no. of iterations below 10 then we will have the problem of underfitting.  "
   ]
  },
  {
   "cell_type": "code",
   "execution_count": 73,
   "id": "9d76da32",
   "metadata": {},
   "outputs": [],
   "source": [
    "def Model_alpha(X,Y,m,alpha,x_test,y_test,y_train):\n",
    "    t = [0,0]\n",
    "    theta = np.array(t).reshape(-1,1)\n",
    "    for i in range(50):\n",
    "        theta = theta - alpha*(1/m)*np.dot(np.transpose(X),(np.dot(X,theta)-Y))\n",
    "    y_p_train = np.empty((0,1),float)\n",
    "    for i in range(x_train.size):\n",
    "        y_p_train = np.append(y_p_train,predict(x_train[i],theta))\n",
    "    y_p_test = np.empty((0,1),float)\n",
    "    for i in range(x_test.size):\n",
    "        y_p_test = np.append(y_p_test,predict(x_test[i],theta))\n",
    "    err_train = MSR(y_train,y_p_train)\n",
    "    err_test = MSR(y_test,y_p_test)\n",
    "    return err_test, err_train"
   ]
  },
  {
   "cell_type": "code",
   "execution_count": 74,
   "id": "ef6322ae",
   "metadata": {},
   "outputs": [],
   "source": [
    "alpha = []\n",
    "err_tst = []\n",
    "err_trn = []\n",
    "for i in range(1,101):\n",
    "    alpha.append(0.000001*i)\n",
    "for i in range (100):\n",
    "    x1,x2 = Model_alpha(X,Y,m,alpha[i],x_test,y_test,y_train)\n",
    "    err_tst.append(x1)\n",
    "    err_trn.append(x2)"
   ]
  },
  {
   "cell_type": "code",
   "execution_count": 75,
   "id": "1500f225",
   "metadata": {},
   "outputs": [
    {
     "data": {
      "text/plain": [
       "[<matplotlib.lines.Line2D at 0x7f1dcb1b2280>]"
      ]
     },
     "execution_count": 75,
     "metadata": {},
     "output_type": "execute_result"
    },
    {
     "data": {
      "image/png": "[encoded data removed]",
      "text/plain": [
       "<Figure size 432x288 with 1 Axes>"
      ]
     },
     "metadata": {
      "needs_background": "light"
     },
     "output_type": "display_data"
    }
   ],
   "source": [
    "plt.plot(alpha,err_tst,color = 'blue', linewidth = 3, label = 'line1')\n",
    "plt.plot(alpha,err_trn,color = 'black', linewidth = 3, label = 'line2')"
   ]
  },
  {
   "cell_type": "markdown",
   "id": "0cd9f48c",
   "metadata": {},
   "source": [
    "the above graph shows how error depends on the value of the learning rate alpha. Here also chossing alpha less than 0.00002 will lead to underfitting. Note that this graph shows error upto learning rate = 0.0001, but after a certain value of learning rate greater than 0.0001 will lead to exploding gradient descent. "
   ]
  },
  {
   "cell_type": "markdown",
   "id": "492894c4",
   "metadata": {},
   "source": [
    "Answer 3: The expected value of the MSE depends on both bias and variance, Because of this reason understanding reason bias variance trade off is very important. Variance means the change in the hypothesis function due to change in the dataset being used for training whereas bias refers to the error generated due to applying simpler models to the given dataset rather than the actual one. A flexible/complex model has high variance although we would want our model to change less between different datasets but high variance also means that our model fits the given dataset well. A complex model has low bias, since most of the real life problems are complex therefore its evident from the definition that more complex models will have low bias. The bias and variance are related in a way that increasing bias leads to decrease in variance. This can be proved intutively, as we increase the complexity of our model, its variance increases, at the same time its bias decreases. The MSE value depends on the relative rate at which variance decrease and the bias increase, if the rate of decrease of bias is more than the rate of increase of variance then the expected value of MSE decreases this means performance of our model improves. But as the rate of decrease of bias becomes less than rate of increase of variance then MSE increases, therefore a middle value for the least MSE can be found when rate of decrese of bias equals rate of increase of variance, this compromise in value of bias and variance is known as bias variance trade off."
   ]
  }
 ],
 "metadata": {
  "kernelspec": {
   "display_name": "Python 3 (ipykernel)",
   "language": "python",
   "name": "python3"
  },
  "language_info": {
   "codemirror_mode": {
    "name": "ipython",
    "version": 3
   },
   "file_extension": ".py",
   "mimetype": "text/x-python",
   "name": "python",
   "nbconvert_exporter": "python",
   "pygments_lexer": "ipython3",
   "version": "3.9.7"
  }
 },
 "nbformat": 4,
 "nbformat_minor": 5
}
