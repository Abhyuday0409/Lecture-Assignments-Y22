{
 "cells": [
  {
   "cell_type": "markdown",
   "metadata": {},
   "source": [
    "# Assignment 1"
   ]
  },
  {
   "cell_type": "markdown",
   "metadata": {},
   "source": [
    "### By Aryan Gupta(EE)"
   ]
  },
  {
   "cell_type": "markdown",
   "metadata": {
    "pycharm": {
     "name": "#%% md\n"
    }
   },
   "source": [
    "### Question 1:\n",
    "You are doing full batch gradient descent using the entire training set (not stochastic gradient descent), Is it necessary to shuffle the training data? Explain your answer.\n",
    "\n",
    "Ans1: In a full batch gradient descent, the cost function runs through the entire dataset and finds the value(like how I have implemented in question2) and then find the value of parameters. So even of you shuffle the values of a particular instance then all the corresponding values of xij(x1j, x2j, x3j...) are shifted with yj and for calculating cost function, there no net change in the value of gradient descent parameters. So the shuffling the values of the gradient descent dataset does not matter."
   ]
  },
  {
   "cell_type": "markdown",
   "metadata": {
    "pycharm": {
     "name": "#%% md\n"
    }
   },
   "source": [
    "### Question 2: \n",
    "Implement Gradient Descent in a Jupyter Notebook. Also explain in the same file how tuning each hyperparameter changes the outcome?\n",
    "\n",
    "Ans2:"
   ]
  },
  {
   "cell_type": "code",
   "execution_count": 50,
   "metadata": {
    "pycharm": {
     "name": "#%%\n"
    }
   },
   "outputs": [],
   "source": [
    "import numpy as np\n",
    "import matplotlib.pyplot as plt"
   ]
  },
  {
   "cell_type": "code",
   "execution_count": 51,
   "metadata": {
    "pycharm": {
     "name": "#%%\n"
    }
   },
   "outputs": [],
   "source": [
    "# Now we need to implement the gradient descent algorithm\n",
    "# assuming my function to be of form h(x)= b_0 + b_1*x and solution be of form (x,y)\n",
    "def cost_function(b_0, b_1, x, y)->float:\n",
    "    n = np.size(x)\n",
    "    J = (1/(2*n))*(np.sum((b_0 + b_1*x -y)**2))\n",
    "    return J\n",
    "# cost list to store the value of costs obtained\n",
    "costs = []\n",
    "def gradient_descent(x, y, b_0, b_1,learning_rate = 0.001,\n",
    "    stopping_threshold = 1e-6,\n",
    "    iterations_max = 1000)->(float, float):\n",
    "    learning_rate = learning_rate\n",
    "    stopping_threshold = stopping_threshold\n",
    "    n = np.size(x)\n",
    "    for i in range(iterations_max):\n",
    "        # main gradient descent algorithm(as described in Andrew Ng course)\n",
    "        temp0 = b_0 - (learning_rate*np.sum((b_0 + b_1*x -y)/n))\n",
    "        temp1 = b_1 - (learning_rate*np.sum(((b_0 + b_1*x -y)*x)/n)) # this is derivative of J\n",
    "        J = cost_function(b_0, b_1,x,y)\n",
    "        #simultaneous upgrade of coefficients\n",
    "        b_0 = temp0\n",
    "        b_1 = temp1\n",
    "        J_new = cost_function(b_0, b_1, x, y)\n",
    "        costs.append(J_new)\n",
    "        if abs(J_new - J) < stopping_threshold:\n",
    "            break\n",
    "    return b_0, b_1"
   ]
  },
  {
   "cell_type": "code",
   "execution_count": 52,
   "metadata": {
    "pycharm": {
     "name": "#%%\n"
    }
   },
   "outputs": [
    {
     "name": "stdout",
     "output_type": "stream",
     "text": [
      "Estimated coefficients:\n",
      "b_0 = [1.21174477] \n",
      "b_1 = [1.17362306]\n"
     ]
    }
   ],
   "source": [
    "x = np.array([0, 1, 2, 3, 4, 5, 6, 7, 8, 9])\n",
    "y = np.array([1, 3, 2, 5, 7, 8, 8, 9, 10, 12])\n",
    "b= np.random.randn(2,1) #to generate random coefficients (maybe of mean=0 and variance=1)\n",
    "iterations_max=1000\n",
    "b = gradient_descent(x, y, b[0],b[1],learning_rate=0.02, iterations_max =iterations_max)\n",
    "print(f\"Estimated coefficients:\\nb_0 = {b[0]} \\nb_1 = {b[1]}\")"
   ]
  },
  {
   "cell_type": "code",
   "execution_count": 53,
   "metadata": {
    "pycharm": {
     "name": "#%%\n"
    }
   },
   "outputs": [
    {
     "data": {
      "image/png": "[encoded data removed]",
      "text/plain": [
       "<Figure size 432x288 with 1 Axes>"
      ]
     },
     "metadata": {
      "needs_background": "light"
     },
     "output_type": "display_data"
    }
   ],
   "source": [
    "# Plotting the function obtained using gradient descent v/s scattered x-y data\n",
    "def plot_func(x, y, b):\n",
    "    plt.scatter(x,y, color=\"b\", marker=\"o\", s=30)\n",
    "    y_predict = b[0]+ b[1]*x\n",
    "    plt.plot(x,y_predict,color=\"g\")\n",
    "    plt.title(\"Simple linear regression using gradient descent\")\n",
    "    plt.xlabel(\"x\")\n",
    "    plt.ylabel(\"y\")\n",
    "plot_func(x, y, b)"
   ]
  },
  {
   "cell_type": "code",
   "execution_count": 54,
   "metadata": {
    "pycharm": {
     "name": "#%%\n"
    }
   },
   "outputs": [
    {
     "data": {
      "text/plain": [
       "Text(0.5, 1.0, 'Cost vs Iterations Analysis')"
      ]
     },
     "execution_count": 54,
     "metadata": {},
     "output_type": "execute_result"
    },
    {
     "data": {
      "image/png": "[encoded data removed]",
      "text/plain": [
       "<Figure size 432x288 with 1 Axes>"
      ]
     },
     "metadata": {
      "needs_background": "light"
     },
     "output_type": "display_data"
    }
   ],
   "source": [
    "# plotting the values of costs v/s number of iterations\n",
    "N = [i for i in range(len(costs))]\n",
    "plt.plot(N,costs)\n",
    "plt.xlabel('Number of Iterations')\n",
    "plt.ylabel('Mean Squared Error')\n",
    "plt.title('Cost vs Iterations Analysis')"
   ]
  },
  {
   "cell_type": "code",
   "execution_count": 55,
   "metadata": {
    "pycharm": {
     "name": "#%%\n"
    }
   },
   "outputs": [
    {
     "name": "stdout",
     "output_type": "stream",
     "text": [
      "5.930061847701175\n"
     ]
    }
   ],
   "source": [
    "# calculating RSS( Residual Sum of Squares):\n",
    "def residual_sum_of_squares(input_features, output_features, slope, intercept):\n",
    "    prediction = input_features*slope + intercept\n",
    "    residual = output_features - prediction\n",
    "    RSS = np.sum(residual*residual)\n",
    "    return RSS\n",
    "print(residual_sum_of_squares(x,y,b[0],b[1]))"
   ]
  },
  {
   "cell_type": "code",
   "execution_count": 56,
   "metadata": {
    "pycharm": {
     "name": "#%%\n"
    }
   },
   "outputs": [
    {
     "name": "stdout",
     "output_type": "stream",
     "text": [
      "0.5930061847701176\n"
     ]
    }
   ],
   "source": [
    "def mean_sum_of_squares(input_features, output_features, slope, intercept):\n",
    "    prediction = input_features*slope + intercept\n",
    "    residual = output_features - prediction\n",
    "    MSE = np.sum(residual*residual)/len(y)\n",
    "    return MSE\n",
    "print(mean_sum_of_squares(x,y,b[0],b[1]))"
   ]
  },
  {
   "cell_type": "code",
   "execution_count": 57,
   "metadata": {
    "pycharm": {
     "name": "#%%\n"
    }
   },
   "outputs": [
    {
     "name": "stdout",
     "output_type": "stream",
     "text": [
      "Estimated coefficients:\n",
      "b_0 = [1.2118838] \n",
      "b_1 = [1.17360089]   RSS:5.932558103798312  MSE:0.5932558103798312\n",
      "Estimated coefficients:\n",
      "b_0 = [1.21914957] \n",
      "b_1 = [1.17244218]   RSS:6.077589130039683  MSE:0.6077589130039682\n",
      "Estimated coefficients:\n",
      "b_0 = [1.21914962] \n",
      "b_1 = [1.17244217]   RSS:6.077590195934423  MSE:0.6077590195934424\n",
      "Estimated coefficients:\n",
      "b_0 = [1.21915011] \n",
      "b_1 = [1.17244209]   RSS:6.0776008549221485  MSE:0.6077600854922148\n",
      "Estimated coefficients:\n",
      "b_0 = [1.21915497] \n",
      "b_1 = [1.17244132]   RSS:6.0777074488295595  MSE:0.6077707448829559\n",
      "Estimated coefficients:\n",
      "b_0 = [1.21920356] \n",
      "b_1 = [1.17243357]   RSS:6.078773790523995  MSE:0.6078773790523995\n",
      "Estimated coefficients:\n",
      "b_0 = [1.22581855] \n",
      "b_1 = [1.17137864]   RSS:6.235882549870269  MSE:0.6235882549870269\n"
     ]
    },
    {
     "data": {
      "text/plain": [
       "<matplotlib.collections.PathCollection at 0x160b2c9d0>"
      ]
     },
     "execution_count": 57,
     "metadata": {},
     "output_type": "execute_result"
    },
    {
     "data": {
      "image/png": "[encoded data removed]",
      "text/plain": [
       "<Figure size 432x288 with 1 Axes>"
      ]
     },
     "metadata": {
      "needs_background": "light"
     },
     "output_type": "display_data"
    }
   ],
   "source": [
    "# now I will try various values of leaning rate and find out the best possible fit using the curve\n",
    "learning_rate_values = [0.02, 0.04,0.00001,0.0001, 0.001,0.01, 0.1]\n",
    "RSS_error_values = []\n",
    "MSE_error_values = []\n",
    "for i in range(len(learning_rate_values)):\n",
    "    iterations_max=1000\n",
    "    b = gradient_descent(x, y, b[0],b[1],learning_rate=learning_rate_values[i], iterations_max =iterations_max)\n",
    "    print(f\"Estimated coefficients:\\nb_0 = {b[0]} \\nb_1 = {b[1]}\",f\"  RSS:{residual_sum_of_squares(x,y,b[0],b[1])}\", f\" MSE:{mean_sum_of_squares(x,y,b[0],b[1])}\")\n",
    "    RSS_error_values.append(residual_sum_of_squares(x,y,b[0],b[1]))\n",
    "    MSE_error_values.append(mean_sum_of_squares(x,y,b[0],b[1]))\n",
    "\n",
    "plt.scatter(learning_rate_values, RSS_error_values, color='g')"
   ]
  },
  {
   "cell_type": "code",
   "execution_count": 58,
   "metadata": {
    "pycharm": {
     "name": "#%%\n"
    },
    "scrolled": true
   },
   "outputs": [
    {
     "data": {
      "text/plain": [
       "<matplotlib.collections.PathCollection at 0x160b76530>"
      ]
     },
     "execution_count": 58,
     "metadata": {},
     "output_type": "execute_result"
    },
    {
     "data": {
      "image/png": "[encoded data removed]",
      "text/plain": [
       "<Figure size 432x288 with 1 Axes>"
      ]
     },
     "metadata": {
      "needs_background": "light"
     },
     "output_type": "display_data"
    }
   ],
   "source": [
    "plt.scatter(learning_rate_values, MSE_error_values, color='r')\n",
    "# so we can see that as the value of learning rate is changed, the error values gets changed"
   ]
  },
  {
   "cell_type": "markdown",
   "metadata": {
    "pycharm": {
     "name": "#%% md\n"
    }
   },
   "source": [
    "The above table value shows that we can reduce the Residual sum of squares(RSS) error and Mean Sum of Squares(MSE)error by changing the values of learning rate which can affect the ability to reach the minimum of the cost function depending upon whether the leanining rate value is quite less(in which case the number of iterations is quite high) or quite high(in which the value overshoots and do not reach the required value)."
   ]
  },
  {
   "cell_type": "markdown",
   "metadata": {
    "pycharm": {
     "name": "#%% md\n"
    }
   },
   "source": [
    "### Question 3:\n",
    "\n",
    "Go through first 2 chapters of ISLR. Now, explain Bias-Variance tradeoff in detail.\n",
    "\n",
    "Answer 3:"
   ]
  },
  {
   "cell_type": "code",
   "execution_count": null,
   "metadata": {},
   "outputs": [],
   "source": [
    "$E(y0 − f(x0))**2 = Var(f(x0)) + [Bias(f(x0))**2] + Var(ε).$\n",
    "\n",
    "This equation is central in understanding the concept of Bais-Variance tradeoff. \n",
    "The first term represents the error function E that explains the MSE or "
   ]
  }
 ],
 "metadata": {
  "kernelspec": {
   "display_name": "Python 3 (ipykernel)",
   "language": "python",
   "name": "python3"
  },
  "language_info": {
   "codemirror_mode": {
    "name": "ipython",
    "version": 3
   },
   "file_extension": ".py",
   "mimetype": "text/x-python",
   "name": "python",
   "nbconvert_exporter": "python",
   "pygments_lexer": "ipython3",
   "version": "3.10.0"
  }
 },
 "nbformat": 4,
 "nbformat_minor": 1
}