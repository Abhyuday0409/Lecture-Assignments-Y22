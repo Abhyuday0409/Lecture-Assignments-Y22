{
 "cells": [
  {
   "cell_type": "markdown",
   "id": "a6b5dc41",
   "metadata": {},
   "source": [
    "**ANSWER 1:**\n",
    "\n",
    "No,it's not necessary to shuffle the training data since each iteration of a full batch gradient descent here uses the entire training dataset and each iteration has the mean of all gradients so the data being shuffled or unshuffled makes no difference."
   ]
  },
  {
   "cell_type": "markdown",
   "id": "307c8f6f",
   "metadata": {},
   "source": [
    "**ANSWER 2:**"
   ]
  },
  {
   "cell_type": "code",
   "execution_count": 1,
   "id": "4dedd62e",
   "metadata": {},
   "outputs": [],
   "source": [
    "import numpy as np\n",
    "import matplotlib.pyplot as pyplot\n",
    "import pandas as pd"
   ]
  },
  {
   "cell_type": "code",
   "execution_count": 2,
   "id": "f0bf7e50",
   "metadata": {},
   "outputs": [
    {
     "data": {
      "text/plain": [
       "<matplotlib.collections.PathCollection at 0x217f4444910>"
      ]
     },
     "execution_count": 2,
     "metadata": {},
     "output_type": "execute_result"
    },
    {
     "data": {
      "image/png": "[encoded data removed]",
      "text/plain": [
       "<Figure size 432x288 with 1 Axes>"
      ]
     },
     "metadata": {
      "needs_background": "light"
     },
     "output_type": "display_data"
    }
   ],
   "source": [
    "\n",
    "x=np.array([2,3,6,8,11,12,15,17,20,22])\n",
    "y=np.array([4,2,7,10,9,10,18,16,18,25])\n",
    "pyplot.scatter(x,y)"
   ]
  },
  {
   "cell_type": "code",
   "execution_count": 8,
   "id": "bcdbcb61",
   "metadata": {},
   "outputs": [],
   "source": [
    "n = len(x)\n",
    "def y_pred(m,c,x):\n",
    "    return (m*x + c)\n"
   ]
  },
  {
   "cell_type": "code",
   "execution_count": null,
   "id": "f0f2ddf1",
   "metadata": {},
   "outputs": [],
   "source": [
    "#formulating the descent model\n",
    "m = c = 4\n",
    "L = 0.0005\n",
    "iterations = 3000\n",
    "for i in range(iterations):\n",
    "        y_pred = m * x + c\n",
    "        m_d = (2/n)*sum(x*(y_pred - y))\n",
    "        c_d = (2/n)*sum(y_pred - y)\n",
    "        temp_0 = c - L * c_d\n",
    "        temp_1 = m - L * m_d\n",
    "        c = temp_0\n",
    "        m = temp_1\n",
    "        cost = (1/n) * sum([error**2 for error in (y_pred-y)])\n",
    "        print (\"m {} , c{} , Cost: {} , Iteration: {} \".format(m,c,cost,i))"
   ]
  },
  {
   "cell_type": "code",
   "execution_count": 7,
   "id": "7815f05b",
   "metadata": {},
   "outputs": [
    {
     "data": {
      "text/plain": [
       "Text(0, 0.5, 'y')"
      ]
     },
     "execution_count": 7,
     "metadata": {},
     "output_type": "execute_result"
    },
    {
     "data": {
      "image/png": "[encoded data removed]",
      "text/plain": [
       "<Figure size 432x288 with 1 Axes>"
      ]
     },
     "metadata": {
      "needs_background": "light"
     },
     "output_type": "display_data"
    }
   ],
   "source": [
    "pyplot.scatter(x,y,marker = 'x',color = 'red')\n",
    "pyplot.plot(x,m*x + c,  linewidth = '2', color = 'black')\n",
    "pyplot.xlabel(\"x\")\n",
    "pyplot.ylabel(\"y\")\n"
   ]
  },
  {
   "cell_type": "markdown",
   "id": "867ccb25",
   "metadata": {},
   "source": [
    "**ANSWER 3:**\n",
    "\n",
    "When making predictions,there exists a difference between the values predicted by the model and the actual values and this difference is what we call **bias**. A model with high bias ends up in oversimplification of the model and thus cannot perform well on new data.\n",
    "\n",
    "**Variance** basically gives information about the spread of data. A model with high variance is heavily infuluenced by the training data which in turn leads to the model performing poorly on testing data,just like in the case of high bias.\n",
    "\n",
    "High variance leads to overfitting and high bias leads to underfitting, ideally we'd want to avoid both these situations and this is where the bias-variance tradeoff comes into picture. If our model is too simple then it may have low variance and high bias and if our model is too complex then it may have high variance and low bias. The optimal solution here is to find a good balance between bias and variance so as to minimize the total error."
   ]
  }
 ],
 "metadata": {
  "kernelspec": {
   "display_name": "Python 3 (ipykernel)",
   "language": "python",
   "name": "python3"
  },
  "language_info": {
   "codemirror_mode": {
    "name": "ipython",
    "version": 3
   },
   "file_extension": ".py",
   "mimetype": "text/x-python",
   "name": "python",
   "nbconvert_exporter": "python",
   "pygments_lexer": "ipython3",
   "version": "3.9.12"
  }
 },
 "nbformat": 4,
 "nbformat_minor": 5
}
