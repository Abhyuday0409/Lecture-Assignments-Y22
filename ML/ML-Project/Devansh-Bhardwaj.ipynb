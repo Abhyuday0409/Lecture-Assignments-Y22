{
 "cells": [
  {
   "cell_type": "code",
   "execution_count": 1,
   "id": "abdbd775",
   "metadata": {},
   "outputs": [],
   "source": [
    "import numpy as np\n",
    "import pandas as pd\n",
    "import seaborn as sns\n",
    "from matplotlib import pyplot as plt"
   ]
  },
  {
   "cell_type": "code",
   "execution_count": 2,
   "id": "79e6cde3",
   "metadata": {},
   "outputs": [],
   "source": [
    "data = pd.read_csv(\"train.csv\")\n",
    "data.drop(['PassengerId'],axis=1,inplace=True)"
   ]
  },
  {
   "cell_type": "code",
   "execution_count": 3,
   "id": "8240bca1",
   "metadata": {},
   "outputs": [
    {
     "data": {
      "text/html": [
       "<div>\n",
       "<style scoped>\n",
       "    .dataframe tbody tr th:only-of-type {\n",
       "        vertical-align: middle;\n",
       "    }\n",
       "\n",
       "    .dataframe tbody tr th {\n",
       "        vertical-align: top;\n",
       "    }\n",
       "\n",
       "    .dataframe thead th {\n",
       "        text-align: right;\n",
       "    }\n",
       "</style>\n",
       "<table border=\"1\" class=\"dataframe\">\n",
       "  <thead>\n",
       "    <tr style=\"text-align: right;\">\n",
       "      <th></th>\n",
       "      <th>Survived</th>\n",
       "      <th>Pclass</th>\n",
       "      <th>Name</th>\n",
       "      <th>Sex</th>\n",
       "      <th>Age</th>\n",
       "      <th>SibSp</th>\n",
       "      <th>Parch</th>\n",
       "      <th>Ticket</th>\n",
       "      <th>Fare</th>\n",
       "      <th>Cabin</th>\n",
       "      <th>Embarked</th>\n",
       "    </tr>\n",
       "  </thead>\n",
       "  <tbody>\n",
       "    <tr>\n",
       "      <th>0</th>\n",
       "      <td>0</td>\n",
       "      <td>3</td>\n",
       "      <td>Braund, Mr. Owen Harris</td>\n",
       "      <td>male</td>\n",
       "      <td>22.0</td>\n",
       "      <td>1</td>\n",
       "      <td>0</td>\n",
       "      <td>A/5 21171</td>\n",
       "      <td>7.2500</td>\n",
       "      <td>NaN</td>\n",
       "      <td>S</td>\n",
       "    </tr>\n",
       "    <tr>\n",
       "      <th>1</th>\n",
       "      <td>1</td>\n",
       "      <td>1</td>\n",
       "      <td>Cumings, Mrs. John Bradley (Florence Briggs Th...</td>\n",
       "      <td>female</td>\n",
       "      <td>38.0</td>\n",
       "      <td>1</td>\n",
       "      <td>0</td>\n",
       "      <td>PC 17599</td>\n",
       "      <td>71.2833</td>\n",
       "      <td>C85</td>\n",
       "      <td>C</td>\n",
       "    </tr>\n",
       "    <tr>\n",
       "      <th>2</th>\n",
       "      <td>1</td>\n",
       "      <td>3</td>\n",
       "      <td>Heikkinen, Miss. Laina</td>\n",
       "      <td>female</td>\n",
       "      <td>26.0</td>\n",
       "      <td>0</td>\n",
       "      <td>0</td>\n",
       "      <td>STON/O2. 3101282</td>\n",
       "      <td>7.9250</td>\n",
       "      <td>NaN</td>\n",
       "      <td>S</td>\n",
       "    </tr>\n",
       "    <tr>\n",
       "      <th>3</th>\n",
       "      <td>1</td>\n",
       "      <td>1</td>\n",
       "      <td>Futrelle, Mrs. Jacques Heath (Lily May Peel)</td>\n",
       "      <td>female</td>\n",
       "      <td>35.0</td>\n",
       "      <td>1</td>\n",
       "      <td>0</td>\n",
       "      <td>113803</td>\n",
       "      <td>53.1000</td>\n",
       "      <td>C123</td>\n",
       "      <td>S</td>\n",
       "    </tr>\n",
       "    <tr>\n",
       "      <th>4</th>\n",
       "      <td>0</td>\n",
       "      <td>3</td>\n",
       "      <td>Allen, Mr. William Henry</td>\n",
       "      <td>male</td>\n",
       "      <td>35.0</td>\n",
       "      <td>0</td>\n",
       "      <td>0</td>\n",
       "      <td>373450</td>\n",
       "      <td>8.0500</td>\n",
       "      <td>NaN</td>\n",
       "      <td>S</td>\n",
       "    </tr>\n",
       "  </tbody>\n",
       "</table>\n",
       "</div>"
      ],
      "text/plain": [
       "   Survived  Pclass                                               Name  \\\n",
       "0         0       3                            Braund, Mr. Owen Harris   \n",
       "1         1       1  Cumings, Mrs. John Bradley (Florence Briggs Th...   \n",
       "2         1       3                             Heikkinen, Miss. Laina   \n",
       "3         1       1       Futrelle, Mrs. Jacques Heath (Lily May Peel)   \n",
       "4         0       3                           Allen, Mr. William Henry   \n",
       "\n",
       "      Sex   Age  SibSp  Parch            Ticket     Fare Cabin Embarked  \n",
       "0    male  22.0      1      0         A/5 21171   7.2500   NaN        S  \n",
       "1  female  38.0      1      0          PC 17599  71.2833   C85        C  \n",
       "2  female  26.0      0      0  STON/O2. 3101282   7.9250   NaN        S  \n",
       "3  female  35.0      1      0            113803  53.1000  C123        S  \n",
       "4    male  35.0      0      0            373450   8.0500   NaN        S  "
      ]
     },
     "execution_count": 3,
     "metadata": {},
     "output_type": "execute_result"
    }
   ],
   "source": [
    "data.head()"
   ]
  },
  {
   "cell_type": "code",
   "execution_count": 4,
   "id": "9807275a",
   "metadata": {},
   "outputs": [
    {
     "data": {
      "text/plain": [
       "Survived      0\n",
       "Pclass        0\n",
       "Name          0\n",
       "Sex           0\n",
       "Age         177\n",
       "SibSp         0\n",
       "Parch         0\n",
       "Ticket        0\n",
       "Fare          0\n",
       "Cabin       687\n",
       "Embarked      2\n",
       "dtype: int64"
      ]
     },
     "execution_count": 4,
     "metadata": {},
     "output_type": "execute_result"
    }
   ],
   "source": [
    "data.isnull().sum()"
   ]
  },
  {
   "cell_type": "code",
   "execution_count": 5,
   "id": "25b88957",
   "metadata": {},
   "outputs": [],
   "source": [
    "data['Embarked'] = data['Embarked'].fillna(data['Embarked'].mode()[0])\n",
    "t = data.loc[:,'SibSp'] + data.loc[:,'Parch'] + 1"
   ]
  },
  {
   "cell_type": "code",
   "execution_count": 6,
   "id": "09330f4e",
   "metadata": {},
   "outputs": [],
   "source": [
    "data['family'] = t\n",
    "data.drop(['SibSp','Parch'],axis=1,inplace = True)"
   ]
  },
  {
   "cell_type": "code",
   "execution_count": 7,
   "id": "dfc79266",
   "metadata": {},
   "outputs": [],
   "source": [
    "data['fare_normalised'] = data.loc[:,'Fare']/data.loc[:,'family']\n",
    "data.drop(['Fare'],axis=1,inplace=True)"
   ]
  },
  {
   "cell_type": "code",
   "execution_count": 8,
   "id": "6463d0de",
   "metadata": {},
   "outputs": [],
   "source": [
    "data['Title'] = None\n",
    "for i in range(0,len(data)):\n",
    "    l = 0\n",
    "    r = 0\n",
    "    s = data.loc[i,'Name']\n",
    "    for x in range(len(s)):\n",
    "        if s[x] == ',':\n",
    "            l = x+2\n",
    "        if s[x] == '.':\n",
    "            r = x\n",
    "    data.loc[i,'Title'] = s[l:r]"
   ]
  },
  {
   "cell_type": "code",
   "execution_count": 9,
   "id": "80ec0134",
   "metadata": {},
   "outputs": [
    {
     "data": {
      "text/html": [
       "<div>\n",
       "<style scoped>\n",
       "    .dataframe tbody tr th:only-of-type {\n",
       "        vertical-align: middle;\n",
       "    }\n",
       "\n",
       "    .dataframe tbody tr th {\n",
       "        vertical-align: top;\n",
       "    }\n",
       "\n",
       "    .dataframe thead th {\n",
       "        text-align: right;\n",
       "    }\n",
       "</style>\n",
       "<table border=\"1\" class=\"dataframe\">\n",
       "  <thead>\n",
       "    <tr style=\"text-align: right;\">\n",
       "      <th></th>\n",
       "      <th>Survived</th>\n",
       "      <th>Pclass</th>\n",
       "      <th>Sex</th>\n",
       "      <th>Age</th>\n",
       "      <th>Ticket</th>\n",
       "      <th>Cabin</th>\n",
       "      <th>Embarked</th>\n",
       "      <th>fare_normalised</th>\n",
       "      <th>Title</th>\n",
       "    </tr>\n",
       "  </thead>\n",
       "  <tbody>\n",
       "    <tr>\n",
       "      <th>0</th>\n",
       "      <td>0</td>\n",
       "      <td>3</td>\n",
       "      <td>male</td>\n",
       "      <td>22.0</td>\n",
       "      <td>A/5 21171</td>\n",
       "      <td>NaN</td>\n",
       "      <td>S</td>\n",
       "      <td>3.62500</td>\n",
       "      <td>Mr</td>\n",
       "    </tr>\n",
       "    <tr>\n",
       "      <th>1</th>\n",
       "      <td>1</td>\n",
       "      <td>1</td>\n",
       "      <td>female</td>\n",
       "      <td>38.0</td>\n",
       "      <td>PC 17599</td>\n",
       "      <td>C85</td>\n",
       "      <td>C</td>\n",
       "      <td>35.64165</td>\n",
       "      <td>Mrs</td>\n",
       "    </tr>\n",
       "    <tr>\n",
       "      <th>2</th>\n",
       "      <td>1</td>\n",
       "      <td>3</td>\n",
       "      <td>female</td>\n",
       "      <td>26.0</td>\n",
       "      <td>STON/O2. 3101282</td>\n",
       "      <td>NaN</td>\n",
       "      <td>S</td>\n",
       "      <td>7.92500</td>\n",
       "      <td>Miss</td>\n",
       "    </tr>\n",
       "    <tr>\n",
       "      <th>3</th>\n",
       "      <td>1</td>\n",
       "      <td>1</td>\n",
       "      <td>female</td>\n",
       "      <td>35.0</td>\n",
       "      <td>113803</td>\n",
       "      <td>C123</td>\n",
       "      <td>S</td>\n",
       "      <td>26.55000</td>\n",
       "      <td>Mrs</td>\n",
       "    </tr>\n",
       "    <tr>\n",
       "      <th>4</th>\n",
       "      <td>0</td>\n",
       "      <td>3</td>\n",
       "      <td>male</td>\n",
       "      <td>35.0</td>\n",
       "      <td>373450</td>\n",
       "      <td>NaN</td>\n",
       "      <td>S</td>\n",
       "      <td>8.05000</td>\n",
       "      <td>Mr</td>\n",
       "    </tr>\n",
       "  </tbody>\n",
       "</table>\n",
       "</div>"
      ],
      "text/plain": [
       "   Survived  Pclass     Sex   Age            Ticket Cabin Embarked  \\\n",
       "0         0       3    male  22.0         A/5 21171   NaN        S   \n",
       "1         1       1  female  38.0          PC 17599   C85        C   \n",
       "2         1       3  female  26.0  STON/O2. 3101282   NaN        S   \n",
       "3         1       1  female  35.0            113803  C123        S   \n",
       "4         0       3    male  35.0            373450   NaN        S   \n",
       "\n",
       "   fare_normalised Title  \n",
       "0          3.62500    Mr  \n",
       "1         35.64165   Mrs  \n",
       "2          7.92500  Miss  \n",
       "3         26.55000   Mrs  \n",
       "4          8.05000    Mr  "
      ]
     },
     "execution_count": 9,
     "metadata": {},
     "output_type": "execute_result"
    }
   ],
   "source": [
    "data.drop(['Name','family'],axis=1,inplace=True)\n",
    "data.head()"
   ]
  },
  {
   "cell_type": "code",
   "execution_count": 10,
   "id": "7cc76b79",
   "metadata": {},
   "outputs": [],
   "source": [
    "df = data.drop(['Cabin'],axis = 1)"
   ]
  },
  {
   "cell_type": "code",
   "execution_count": 11,
   "id": "6df5c583",
   "metadata": {},
   "outputs": [
    {
     "data": {
      "text/plain": [
       "<AxesSubplot:>"
      ]
     },
     "execution_count": 11,
     "metadata": {},
     "output_type": "execute_result"
    },
    {
     "data": {
      "image/png": "[encoded data removed]",
      "text/plain": [
       "<Figure size 360x360 with 2 Axes>"
      ]
     },
     "metadata": {
      "needs_background": "light"
     },
     "output_type": "display_data"
    }
   ],
   "source": [
    "data_age = df.dropna()\n",
    "plt.figure(figsize=(5,5))\n",
    "sns.heatmap(data_age.corr(),cmap = \"GnBu\", annot = True)"
   ]
  },
  {
   "cell_type": "code",
   "execution_count": 12,
   "id": "0c84cc1e",
   "metadata": {},
   "outputs": [],
   "source": [
    "cols = ['Pclass','fare_normalised','Age']\n",
    "from sklearn.experimental import enable_iterative_imputer\n",
    "from sklearn.impute import IterativeImputer\n",
    "impute_it = IterativeImputer()\n",
    "A = impute_it.fit(data[cols])\n",
    "A = impute_it.transform(data[cols])\n",
    "A = pd.DataFrame(A)\n",
    "from sklearn.impute import KNNImputer\n",
    "impute_knn = KNNImputer(n_neighbors=2)\n",
    "B = impute_knn.fit(data[cols])\n",
    "B = impute_knn.transform(data[cols])\n",
    "data.drop(['Age'],axis = 1,inplace=True)\n",
    "B = pd.DataFrame(B)\n",
    "data['Age'] = (A.iloc[:,2]+B.iloc[:,2])/2"
   ]
  },
  {
   "cell_type": "code",
   "execution_count": 13,
   "id": "a5357cca",
   "metadata": {},
   "outputs": [],
   "source": [
    "for i in range(len(data)):\n",
    "    if(pd.isnull(data.at[i,'Cabin'])):\n",
    "        data.loc[i,'Cabin'] = 'Missing'\n",
    "    else:\n",
    "        data.loc[i,'Cabin'] = data.loc[i,'Cabin'][0]\n",
    "        "
   ]
  },
  {
   "cell_type": "code",
   "execution_count": 14,
   "id": "429714b5",
   "metadata": {},
   "outputs": [],
   "source": [
    "from sklearn.preprocessing import LabelEncoder\n",
    "label = LabelEncoder()\n",
    "data['Sex'] = label.fit_transform(data['Sex'])\n",
    "data['Embarked'] = label.fit_transform(data['Embarked'])\n",
    "data['Title'] = label.fit_transform(data['Title'])\n",
    "data['Cabin'] = label.fit_transform(data['Cabin'])"
   ]
  },
  {
   "cell_type": "code",
   "execution_count": 15,
   "id": "37911630",
   "metadata": {},
   "outputs": [
    {
     "data": {
      "text/html": [
       "<div>\n",
       "<style scoped>\n",
       "    .dataframe tbody tr th:only-of-type {\n",
       "        vertical-align: middle;\n",
       "    }\n",
       "\n",
       "    .dataframe tbody tr th {\n",
       "        vertical-align: top;\n",
       "    }\n",
       "\n",
       "    .dataframe thead th {\n",
       "        text-align: right;\n",
       "    }\n",
       "</style>\n",
       "<table border=\"1\" class=\"dataframe\">\n",
       "  <thead>\n",
       "    <tr style=\"text-align: right;\">\n",
       "      <th></th>\n",
       "      <th>Survived</th>\n",
       "      <th>Pclass</th>\n",
       "      <th>Sex</th>\n",
       "      <th>Cabin</th>\n",
       "      <th>Embarked</th>\n",
       "      <th>fare_normalised</th>\n",
       "      <th>Title</th>\n",
       "      <th>Age</th>\n",
       "    </tr>\n",
       "  </thead>\n",
       "  <tbody>\n",
       "    <tr>\n",
       "      <th>0</th>\n",
       "      <td>0</td>\n",
       "      <td>3</td>\n",
       "      <td>1</td>\n",
       "      <td>7</td>\n",
       "      <td>2</td>\n",
       "      <td>3.62500</td>\n",
       "      <td>11</td>\n",
       "      <td>22.0</td>\n",
       "    </tr>\n",
       "    <tr>\n",
       "      <th>1</th>\n",
       "      <td>1</td>\n",
       "      <td>1</td>\n",
       "      <td>0</td>\n",
       "      <td>2</td>\n",
       "      <td>0</td>\n",
       "      <td>35.64165</td>\n",
       "      <td>12</td>\n",
       "      <td>38.0</td>\n",
       "    </tr>\n",
       "    <tr>\n",
       "      <th>2</th>\n",
       "      <td>1</td>\n",
       "      <td>3</td>\n",
       "      <td>0</td>\n",
       "      <td>7</td>\n",
       "      <td>2</td>\n",
       "      <td>7.92500</td>\n",
       "      <td>8</td>\n",
       "      <td>26.0</td>\n",
       "    </tr>\n",
       "    <tr>\n",
       "      <th>3</th>\n",
       "      <td>1</td>\n",
       "      <td>1</td>\n",
       "      <td>0</td>\n",
       "      <td>2</td>\n",
       "      <td>2</td>\n",
       "      <td>26.55000</td>\n",
       "      <td>12</td>\n",
       "      <td>35.0</td>\n",
       "    </tr>\n",
       "    <tr>\n",
       "      <th>4</th>\n",
       "      <td>0</td>\n",
       "      <td>3</td>\n",
       "      <td>1</td>\n",
       "      <td>7</td>\n",
       "      <td>2</td>\n",
       "      <td>8.05000</td>\n",
       "      <td>11</td>\n",
       "      <td>35.0</td>\n",
       "    </tr>\n",
       "  </tbody>\n",
       "</table>\n",
       "</div>"
      ],
      "text/plain": [
       "   Survived  Pclass  Sex  Cabin  Embarked  fare_normalised  Title   Age\n",
       "0         0       3    1      7         2          3.62500     11  22.0\n",
       "1         1       1    0      2         0         35.64165     12  38.0\n",
       "2         1       3    0      7         2          7.92500      8  26.0\n",
       "3         1       1    0      2         2         26.55000     12  35.0\n",
       "4         0       3    1      7         2          8.05000     11  35.0"
      ]
     },
     "execution_count": 15,
     "metadata": {},
     "output_type": "execute_result"
    }
   ],
   "source": [
    "data.drop(['Ticket'],axis=1,inplace = True)\n",
    "data.head()"
   ]
  },
  {
   "cell_type": "code",
   "execution_count": 16,
   "id": "678ed0e6",
   "metadata": {},
   "outputs": [
    {
     "data": {
      "text/html": [
       "<div>\n",
       "<style scoped>\n",
       "    .dataframe tbody tr th:only-of-type {\n",
       "        vertical-align: middle;\n",
       "    }\n",
       "\n",
       "    .dataframe tbody tr th {\n",
       "        vertical-align: top;\n",
       "    }\n",
       "\n",
       "    .dataframe thead th {\n",
       "        text-align: right;\n",
       "    }\n",
       "</style>\n",
       "<table border=\"1\" class=\"dataframe\">\n",
       "  <thead>\n",
       "    <tr style=\"text-align: right;\">\n",
       "      <th></th>\n",
       "      <th>Survived</th>\n",
       "      <th>Pclass</th>\n",
       "      <th>Sex</th>\n",
       "      <th>Cabin</th>\n",
       "      <th>Embarked</th>\n",
       "      <th>fare_normalised</th>\n",
       "      <th>Title</th>\n",
       "      <th>Age</th>\n",
       "    </tr>\n",
       "  </thead>\n",
       "  <tbody>\n",
       "    <tr>\n",
       "      <th>0</th>\n",
       "      <td>0</td>\n",
       "      <td>3</td>\n",
       "      <td>1</td>\n",
       "      <td>7</td>\n",
       "      <td>2</td>\n",
       "      <td>3.62500</td>\n",
       "      <td>11</td>\n",
       "      <td>22.000000</td>\n",
       "    </tr>\n",
       "    <tr>\n",
       "      <th>1</th>\n",
       "      <td>1</td>\n",
       "      <td>1</td>\n",
       "      <td>0</td>\n",
       "      <td>2</td>\n",
       "      <td>0</td>\n",
       "      <td>35.64165</td>\n",
       "      <td>12</td>\n",
       "      <td>38.000000</td>\n",
       "    </tr>\n",
       "    <tr>\n",
       "      <th>2</th>\n",
       "      <td>1</td>\n",
       "      <td>3</td>\n",
       "      <td>0</td>\n",
       "      <td>7</td>\n",
       "      <td>2</td>\n",
       "      <td>7.92500</td>\n",
       "      <td>8</td>\n",
       "      <td>26.000000</td>\n",
       "    </tr>\n",
       "    <tr>\n",
       "      <th>3</th>\n",
       "      <td>1</td>\n",
       "      <td>1</td>\n",
       "      <td>0</td>\n",
       "      <td>2</td>\n",
       "      <td>2</td>\n",
       "      <td>26.55000</td>\n",
       "      <td>12</td>\n",
       "      <td>35.000000</td>\n",
       "    </tr>\n",
       "    <tr>\n",
       "      <th>4</th>\n",
       "      <td>0</td>\n",
       "      <td>3</td>\n",
       "      <td>1</td>\n",
       "      <td>7</td>\n",
       "      <td>2</td>\n",
       "      <td>8.05000</td>\n",
       "      <td>11</td>\n",
       "      <td>35.000000</td>\n",
       "    </tr>\n",
       "    <tr>\n",
       "      <th>...</th>\n",
       "      <td>...</td>\n",
       "      <td>...</td>\n",
       "      <td>...</td>\n",
       "      <td>...</td>\n",
       "      <td>...</td>\n",
       "      <td>...</td>\n",
       "      <td>...</td>\n",
       "      <td>...</td>\n",
       "    </tr>\n",
       "    <tr>\n",
       "      <th>886</th>\n",
       "      <td>0</td>\n",
       "      <td>2</td>\n",
       "      <td>1</td>\n",
       "      <td>7</td>\n",
       "      <td>2</td>\n",
       "      <td>13.00000</td>\n",
       "      <td>15</td>\n",
       "      <td>27.000000</td>\n",
       "    </tr>\n",
       "    <tr>\n",
       "      <th>887</th>\n",
       "      <td>1</td>\n",
       "      <td>1</td>\n",
       "      <td>0</td>\n",
       "      <td>1</td>\n",
       "      <td>2</td>\n",
       "      <td>30.00000</td>\n",
       "      <td>8</td>\n",
       "      <td>19.000000</td>\n",
       "    </tr>\n",
       "    <tr>\n",
       "      <th>888</th>\n",
       "      <td>0</td>\n",
       "      <td>3</td>\n",
       "      <td>0</td>\n",
       "      <td>7</td>\n",
       "      <td>2</td>\n",
       "      <td>5.86250</td>\n",
       "      <td>8</td>\n",
       "      <td>16.692732</td>\n",
       "    </tr>\n",
       "    <tr>\n",
       "      <th>889</th>\n",
       "      <td>1</td>\n",
       "      <td>1</td>\n",
       "      <td>1</td>\n",
       "      <td>2</td>\n",
       "      <td>0</td>\n",
       "      <td>30.00000</td>\n",
       "      <td>11</td>\n",
       "      <td>26.000000</td>\n",
       "    </tr>\n",
       "    <tr>\n",
       "      <th>890</th>\n",
       "      <td>0</td>\n",
       "      <td>3</td>\n",
       "      <td>1</td>\n",
       "      <td>7</td>\n",
       "      <td>1</td>\n",
       "      <td>7.75000</td>\n",
       "      <td>11</td>\n",
       "      <td>32.000000</td>\n",
       "    </tr>\n",
       "  </tbody>\n",
       "</table>\n",
       "<p>891 rows × 8 columns</p>\n",
       "</div>"
      ],
      "text/plain": [
       "     Survived  Pclass  Sex  Cabin  Embarked  fare_normalised  Title        Age\n",
       "0           0       3    1      7         2          3.62500     11  22.000000\n",
       "1           1       1    0      2         0         35.64165     12  38.000000\n",
       "2           1       3    0      7         2          7.92500      8  26.000000\n",
       "3           1       1    0      2         2         26.55000     12  35.000000\n",
       "4           0       3    1      7         2          8.05000     11  35.000000\n",
       "..        ...     ...  ...    ...       ...              ...    ...        ...\n",
       "886         0       2    1      7         2         13.00000     15  27.000000\n",
       "887         1       1    0      1         2         30.00000      8  19.000000\n",
       "888         0       3    0      7         2          5.86250      8  16.692732\n",
       "889         1       1    1      2         0         30.00000     11  26.000000\n",
       "890         0       3    1      7         1          7.75000     11  32.000000\n",
       "\n",
       "[891 rows x 8 columns]"
      ]
     },
     "execution_count": 16,
     "metadata": {},
     "output_type": "execute_result"
    }
   ],
   "source": [
    "data"
   ]
  },
  {
   "cell_type": "code",
   "execution_count": 17,
   "id": "6aa5d681",
   "metadata": {},
   "outputs": [
    {
     "data": {
      "text/html": [
       "<div>\n",
       "<style scoped>\n",
       "    .dataframe tbody tr th:only-of-type {\n",
       "        vertical-align: middle;\n",
       "    }\n",
       "\n",
       "    .dataframe tbody tr th {\n",
       "        vertical-align: top;\n",
       "    }\n",
       "\n",
       "    .dataframe thead th {\n",
       "        text-align: right;\n",
       "    }\n",
       "</style>\n",
       "<table border=\"1\" class=\"dataframe\">\n",
       "  <thead>\n",
       "    <tr style=\"text-align: right;\">\n",
       "      <th></th>\n",
       "      <th>Survived</th>\n",
       "      <th>Pclass</th>\n",
       "      <th>Sex</th>\n",
       "      <th>Cabin</th>\n",
       "      <th>Embarked</th>\n",
       "      <th>fare_normalised</th>\n",
       "      <th>Title</th>\n",
       "      <th>Age</th>\n",
       "    </tr>\n",
       "  </thead>\n",
       "  <tbody>\n",
       "    <tr>\n",
       "      <th>0</th>\n",
       "      <td>0</td>\n",
       "      <td>3</td>\n",
       "      <td>1</td>\n",
       "      <td>7</td>\n",
       "      <td>2</td>\n",
       "      <td>3.62500</td>\n",
       "      <td>11</td>\n",
       "      <td>22.0</td>\n",
       "    </tr>\n",
       "    <tr>\n",
       "      <th>1</th>\n",
       "      <td>1</td>\n",
       "      <td>1</td>\n",
       "      <td>0</td>\n",
       "      <td>2</td>\n",
       "      <td>0</td>\n",
       "      <td>35.64165</td>\n",
       "      <td>12</td>\n",
       "      <td>38.0</td>\n",
       "    </tr>\n",
       "    <tr>\n",
       "      <th>2</th>\n",
       "      <td>1</td>\n",
       "      <td>3</td>\n",
       "      <td>0</td>\n",
       "      <td>7</td>\n",
       "      <td>2</td>\n",
       "      <td>7.92500</td>\n",
       "      <td>8</td>\n",
       "      <td>26.0</td>\n",
       "    </tr>\n",
       "    <tr>\n",
       "      <th>3</th>\n",
       "      <td>1</td>\n",
       "      <td>1</td>\n",
       "      <td>0</td>\n",
       "      <td>2</td>\n",
       "      <td>2</td>\n",
       "      <td>26.55000</td>\n",
       "      <td>12</td>\n",
       "      <td>35.0</td>\n",
       "    </tr>\n",
       "    <tr>\n",
       "      <th>4</th>\n",
       "      <td>0</td>\n",
       "      <td>3</td>\n",
       "      <td>1</td>\n",
       "      <td>7</td>\n",
       "      <td>2</td>\n",
       "      <td>8.05000</td>\n",
       "      <td>11</td>\n",
       "      <td>35.0</td>\n",
       "    </tr>\n",
       "  </tbody>\n",
       "</table>\n",
       "</div>"
      ],
      "text/plain": [
       "   Survived  Pclass  Sex  Cabin  Embarked  fare_normalised  Title   Age\n",
       "0         0       3    1      7         2          3.62500     11  22.0\n",
       "1         1       1    0      2         0         35.64165     12  38.0\n",
       "2         1       3    0      7         2          7.92500      8  26.0\n",
       "3         1       1    0      2         2         26.55000     12  35.0\n",
       "4         0       3    1      7         2          8.05000     11  35.0"
      ]
     },
     "execution_count": 17,
     "metadata": {},
     "output_type": "execute_result"
    }
   ],
   "source": [
    "data.head()"
   ]
  },
  {
   "cell_type": "code",
   "execution_count": 18,
   "id": "0e38c854",
   "metadata": {},
   "outputs": [],
   "source": [
    "# data_cabin = data.dropna()"
   ]
  },
  {
   "cell_type": "code",
   "execution_count": 19,
   "id": "0dc49125",
   "metadata": {},
   "outputs": [],
   "source": [
    "# data_cabin.info()"
   ]
  },
  {
   "cell_type": "code",
   "execution_count": 20,
   "id": "991c15f2",
   "metadata": {},
   "outputs": [],
   "source": [
    "# for i in range(0,len(data_cabin)):\n",
    "#     s = data_cabin.iloc[i,4]\n",
    "#     data_cabin.loc[i,'Cabin'] = s[0:1]"
   ]
  },
  {
   "cell_type": "code",
   "execution_count": 21,
   "id": "786e088f",
   "metadata": {},
   "outputs": [],
   "source": [
    "# data_cabin['Cabin'] = label.fit_transform(data_cabin['Cabin'])"
   ]
  },
  {
   "cell_type": "code",
   "execution_count": 22,
   "id": "a70e6810",
   "metadata": {},
   "outputs": [],
   "source": [
    "# plt.figure(figsize=(5,5))\n",
    "# sns.heatmap(data_cabin.corr(),cmap = \"GnBu\", annot = True)"
   ]
  },
  {
   "cell_type": "code",
   "execution_count": 23,
   "id": "3121d2ee",
   "metadata": {},
   "outputs": [
    {
     "data": {
      "text/plain": [
       "<AxesSubplot:>"
      ]
     },
     "execution_count": 23,
     "metadata": {},
     "output_type": "execute_result"
    },
    {
     "data": {
      "image/png": "[encoded data removed]",
      "text/plain": [
       "<Figure size 360x360 with 2 Axes>"
      ]
     },
     "metadata": {
      "needs_background": "light"
     },
     "output_type": "display_data"
    }
   ],
   "source": [
    "plt.figure(figsize=(5,5))\n",
    "sns.heatmap(data_age.corr(),cmap = \"GnBu\", annot = True)"
   ]
  },
  {
   "cell_type": "code",
   "execution_count": 24,
   "id": "a2d807ba",
   "metadata": {},
   "outputs": [],
   "source": [
    "# plt.hist(data.Age,bins=20,color=\"red\",label = \"Age\")\n",
    "# plt.show()"
   ]
  },
  {
   "cell_type": "code",
   "execution_count": 25,
   "id": "8639973b",
   "metadata": {},
   "outputs": [],
   "source": [
    "# plt.hist(data.Fare,bins=10,color=\"red\",label = \"Age\")\n",
    "# plt.show()"
   ]
  },
  {
   "cell_type": "code",
   "execution_count": 26,
   "id": "5a219b55",
   "metadata": {},
   "outputs": [],
   "source": [
    "# x= data['Survived'].value_counts()\n",
    "# plt.bar(x.keys(),x)"
   ]
  },
  {
   "cell_type": "code",
   "execution_count": 27,
   "id": "02b84bbb",
   "metadata": {},
   "outputs": [],
   "source": [
    "# x= data['Pclass'].value_counts()\n",
    "# plt.bar(x.keys(),x)"
   ]
  },
  {
   "cell_type": "code",
   "execution_count": 28,
   "id": "7c43594d",
   "metadata": {},
   "outputs": [],
   "source": [
    "# x= data['SibSp'].value_counts()\n",
    "# plt.bar(x.keys(),x)"
   ]
  },
  {
   "cell_type": "code",
   "execution_count": 29,
   "id": "faebdf2d",
   "metadata": {},
   "outputs": [],
   "source": [
    "# x= data['Parch'].value_counts()\n",
    "# plt.bar(x.keys(),x)"
   ]
  },
  {
   "cell_type": "code",
   "execution_count": 30,
   "id": "698d04b4",
   "metadata": {},
   "outputs": [],
   "source": [
    "# x= data['Embarked'].value_counts()\n",
    "# plt.bar(x.keys(),x)"
   ]
  },
  {
   "cell_type": "code",
   "execution_count": 31,
   "id": "4df554d4",
   "metadata": {},
   "outputs": [],
   "source": [
    "# x= data['Sex'].value_counts()\n",
    "# plt.bar(x.keys(),x)"
   ]
  },
  {
   "cell_type": "code",
   "execution_count": 32,
   "id": "bb834cc3",
   "metadata": {},
   "outputs": [],
   "source": [
    "# plt.figure(figsize=(10,10))\n",
    "# sns.heatmap(data.corr(),cmap = \"GnBu\", annot = True)"
   ]
  },
  {
   "cell_type": "code",
   "execution_count": 33,
   "id": "c2a48fd9",
   "metadata": {},
   "outputs": [],
   "source": [
    "# pd.crosstab(data.Survived, data.Pclass,margins=True)"
   ]
  },
  {
   "cell_type": "code",
   "execution_count": 34,
   "id": "eb7d3b8e",
   "metadata": {},
   "outputs": [],
   "source": [
    "# sns.heatmap(pd.crosstab(data.Survived, data.Pclass,margins=True),cmap=\"YlGnBu\", annot=True, cbar=False)"
   ]
  },
  {
   "cell_type": "code",
   "execution_count": 35,
   "id": "051af282",
   "metadata": {},
   "outputs": [],
   "source": [
    "# sns.heatmap(pd.crosstab(data.Survived, data.SibSp,margins=True),cmap=\"YlGnBu\", annot=True, cbar=False)"
   ]
  },
  {
   "cell_type": "code",
   "execution_count": 36,
   "id": "15bb6f4d",
   "metadata": {},
   "outputs": [],
   "source": [
    "# sns.heatmap(pd.crosstab(data.Survived, data.Parch,margins=True),cmap=\"YlGnBu\", annot=True, cbar=False)"
   ]
  },
  {
   "cell_type": "code",
   "execution_count": 37,
   "id": "e065af55",
   "metadata": {},
   "outputs": [],
   "source": [
    "# sns.heatmap(pd.crosstab(data.Survived, data.Gender,margins=True),cmap=\"YlGnBu\", annot=True, cbar=False)"
   ]
  },
  {
   "cell_type": "code",
   "execution_count": 38,
   "id": "2ec40707",
   "metadata": {},
   "outputs": [],
   "source": [
    "# sns.heatmap(pd.crosstab(data.Survived, data.embarked,margins=True),cmap=\"YlGnBu\", annot=True, cbar=False)"
   ]
  },
  {
   "cell_type": "code",
   "execution_count": 39,
   "id": "835b63f3",
   "metadata": {},
   "outputs": [],
   "source": [
    "# sns.barplot(x='Survived',y='Age',data=data)"
   ]
  },
  {
   "cell_type": "code",
   "execution_count": 40,
   "id": "c825cc61",
   "metadata": {},
   "outputs": [],
   "source": [
    "# sns.barplot(x='Survived',y='Fare',data=data)"
   ]
  },
  {
   "cell_type": "code",
   "execution_count": 41,
   "id": "7348c78a",
   "metadata": {},
   "outputs": [],
   "source": [
    "# sns.boxplot(x='Survived',y='Age',data=data,palette='rainbow')"
   ]
  },
  {
   "cell_type": "code",
   "execution_count": 42,
   "id": "d7fe3cf4",
   "metadata": {},
   "outputs": [],
   "source": [
    "# sns.boxplot(x='Survived',y='Fare',data=data,palette='rainbow')"
   ]
  },
  {
   "cell_type": "code",
   "execution_count": 43,
   "id": "68174161",
   "metadata": {},
   "outputs": [],
   "source": [
    "# sns.boxplot(x='Age',data=data,palette='rainbow')"
   ]
  },
  {
   "cell_type": "code",
   "execution_count": 44,
   "id": "80f7bd33",
   "metadata": {},
   "outputs": [],
   "source": [
    "# sns.boxplot(x='Fare',data=data,palette='rainbow')"
   ]
  },
  {
   "cell_type": "code",
   "execution_count": 45,
   "id": "84a135e2",
   "metadata": {},
   "outputs": [],
   "source": [
    "# data.drop(['Ticket','Cabin'],axis=1,inplace=True)"
   ]
  },
  {
   "cell_type": "code",
   "execution_count": 46,
   "id": "5301ee4f",
   "metadata": {},
   "outputs": [
    {
     "data": {
      "text/html": [
       "<div>\n",
       "<style scoped>\n",
       "    .dataframe tbody tr th:only-of-type {\n",
       "        vertical-align: middle;\n",
       "    }\n",
       "\n",
       "    .dataframe tbody tr th {\n",
       "        vertical-align: top;\n",
       "    }\n",
       "\n",
       "    .dataframe thead th {\n",
       "        text-align: right;\n",
       "    }\n",
       "</style>\n",
       "<table border=\"1\" class=\"dataframe\">\n",
       "  <thead>\n",
       "    <tr style=\"text-align: right;\">\n",
       "      <th></th>\n",
       "      <th>Survived</th>\n",
       "      <th>Pclass</th>\n",
       "      <th>Sex</th>\n",
       "      <th>Cabin</th>\n",
       "      <th>Embarked</th>\n",
       "      <th>fare_normalised</th>\n",
       "      <th>Title</th>\n",
       "      <th>Age</th>\n",
       "    </tr>\n",
       "  </thead>\n",
       "  <tbody>\n",
       "    <tr>\n",
       "      <th>0</th>\n",
       "      <td>0</td>\n",
       "      <td>3</td>\n",
       "      <td>1</td>\n",
       "      <td>7</td>\n",
       "      <td>2</td>\n",
       "      <td>3.62500</td>\n",
       "      <td>11</td>\n",
       "      <td>22.0</td>\n",
       "    </tr>\n",
       "    <tr>\n",
       "      <th>1</th>\n",
       "      <td>1</td>\n",
       "      <td>1</td>\n",
       "      <td>0</td>\n",
       "      <td>2</td>\n",
       "      <td>0</td>\n",
       "      <td>35.64165</td>\n",
       "      <td>12</td>\n",
       "      <td>38.0</td>\n",
       "    </tr>\n",
       "    <tr>\n",
       "      <th>2</th>\n",
       "      <td>1</td>\n",
       "      <td>3</td>\n",
       "      <td>0</td>\n",
       "      <td>7</td>\n",
       "      <td>2</td>\n",
       "      <td>7.92500</td>\n",
       "      <td>8</td>\n",
       "      <td>26.0</td>\n",
       "    </tr>\n",
       "    <tr>\n",
       "      <th>3</th>\n",
       "      <td>1</td>\n",
       "      <td>1</td>\n",
       "      <td>0</td>\n",
       "      <td>2</td>\n",
       "      <td>2</td>\n",
       "      <td>26.55000</td>\n",
       "      <td>12</td>\n",
       "      <td>35.0</td>\n",
       "    </tr>\n",
       "    <tr>\n",
       "      <th>4</th>\n",
       "      <td>0</td>\n",
       "      <td>3</td>\n",
       "      <td>1</td>\n",
       "      <td>7</td>\n",
       "      <td>2</td>\n",
       "      <td>8.05000</td>\n",
       "      <td>11</td>\n",
       "      <td>35.0</td>\n",
       "    </tr>\n",
       "  </tbody>\n",
       "</table>\n",
       "</div>"
      ],
      "text/plain": [
       "   Survived  Pclass  Sex  Cabin  Embarked  fare_normalised  Title   Age\n",
       "0         0       3    1      7         2          3.62500     11  22.0\n",
       "1         1       1    0      2         0         35.64165     12  38.0\n",
       "2         1       3    0      7         2          7.92500      8  26.0\n",
       "3         1       1    0      2         2         26.55000     12  35.0\n",
       "4         0       3    1      7         2          8.05000     11  35.0"
      ]
     },
     "execution_count": 46,
     "metadata": {},
     "output_type": "execute_result"
    }
   ],
   "source": [
    "data.head()"
   ]
  },
  {
   "cell_type": "code",
   "execution_count": 47,
   "id": "d253a384",
   "metadata": {},
   "outputs": [],
   "source": [
    "from scipy import stats\n",
    "z = np.abs(stats.zscore(data)>2)\n",
    "z = pd.DataFrame(z)"
   ]
  },
  {
   "cell_type": "code",
   "execution_count": 48,
   "id": "20f22d4c",
   "metadata": {},
   "outputs": [
    {
     "name": "stdout",
     "output_type": "stream",
     "text": [
      "     Survived  Pclass    Sex  Cabin  Embarked  fare_normalised  Title    Age\n",
      "0       False   False  False  False     False            False  False  False\n",
      "1       False   False  False  False     False            False  False  False\n",
      "2       False   False  False  False     False            False  False  False\n",
      "3       False   False  False  False     False            False  False  False\n",
      "4       False   False  False  False     False            False  False  False\n",
      "..        ...     ...    ...    ...       ...              ...    ...    ...\n",
      "886     False   False  False  False     False            False   True  False\n",
      "887     False   False  False  False     False            False  False  False\n",
      "888     False   False  False  False     False            False  False  False\n",
      "889     False   False  False  False     False            False  False  False\n",
      "890     False   False  False  False     False            False  False  False\n",
      "\n",
      "[891 rows x 8 columns]\n"
     ]
    }
   ],
   "source": [
    "print(z)"
   ]
  },
  {
   "cell_type": "code",
   "execution_count": 49,
   "id": "bb982b87",
   "metadata": {},
   "outputs": [
    {
     "data": {
      "text/plain": [
       "23"
      ]
     },
     "execution_count": 49,
     "metadata": {},
     "output_type": "execute_result"
    }
   ],
   "source": [
    "z[z['fare_normalised']==True]['fare_normalised'].sum()"
   ]
  },
  {
   "cell_type": "code",
   "execution_count": 50,
   "id": "848c05a7",
   "metadata": {},
   "outputs": [
    {
     "data": {
      "text/plain": [
       "(891, 8)"
      ]
     },
     "execution_count": 50,
     "metadata": {},
     "output_type": "execute_result"
    }
   ],
   "source": [
    "data.shape"
   ]
  },
  {
   "cell_type": "code",
   "execution_count": 51,
   "id": "c04cdd3d",
   "metadata": {},
   "outputs": [],
   "source": [
    "data = data[(np.abs(stats.zscore(data)) < 2).all(axis=1)]"
   ]
  },
  {
   "cell_type": "code",
   "execution_count": 52,
   "id": "1cd661a2",
   "metadata": {},
   "outputs": [
    {
     "ename": "SyntaxError",
     "evalue": "invalid syntax (77946508.py, line 2)",
     "output_type": "error",
     "traceback": [
      "\u001b[0;36m  File \u001b[0;32m\"/tmp/ipykernel_534/77946508.py\"\u001b[0;36m, line \u001b[0;32m2\u001b[0m\n\u001b[0;31m    if(data.)\u001b[0m\n\u001b[0m            ^\u001b[0m\n\u001b[0;31mSyntaxError\u001b[0m\u001b[0;31m:\u001b[0m invalid syntax\n"
     ]
    }
   ],
   "source": [
    "for i in len(data):\n",
    "    if(data.)"
   ]
  },
  {
   "cell_type": "code",
   "execution_count": null,
   "id": "1aa33fc5",
   "metadata": {},
   "outputs": [],
   "source": [
    "data.shape"
   ]
  },
  {
   "cell_type": "code",
   "execution_count": null,
   "id": "877148c5",
   "metadata": {},
   "outputs": [],
   "source": [
    "print(data)"
   ]
  },
  {
   "cell_type": "code",
   "execution_count": null,
   "id": "ab5e7dbf",
   "metadata": {},
   "outputs": [],
   "source": [
    "from sklearn.preprocessing import MinMaxScaler\n",
    "s = MinMaxScaler()\n",
    "mod = data.drop(['Survived'],axis = 1)\n",
    "s.fit(mod)\n",
    "mod = pd.DataFrame(s.transform(mod))"
   ]
  },
  {
   "cell_type": "code",
   "execution_count": null,
   "id": "00187c9b",
   "metadata": {},
   "outputs": [],
   "source": [
    "print(data)"
   ]
  },
  {
   "cell_type": "code",
   "execution_count": null,
   "id": "ff0dac1c",
   "metadata": {},
   "outputs": [],
   "source": [
    "X = mod.iloc[:,:]\n",
    "y = data.iloc[:,0]"
   ]
  },
  {
   "cell_type": "code",
   "execution_count": null,
   "id": "c0527608",
   "metadata": {},
   "outputs": [],
   "source": [
    "plt.figure(figsize=(5,5))\n",
    "sns.heatmap(data.corr(),cmap = \"GnBu\", annot = True)"
   ]
  },
  {
   "cell_type": "code",
   "execution_count": null,
   "id": "24c3895f",
   "metadata": {},
   "outputs": [],
   "source": [
    "from sklearn.model_selection import train_test_split\n",
    "X_train,X_test,y_train,y_test = train_test_split(X,y, test_size = 0.2)"
   ]
  },
  {
   "cell_type": "code",
   "execution_count": null,
   "id": "bdfa3bd9",
   "metadata": {},
   "outputs": [],
   "source": [
    "from sklearn.linear_model import LogisticRegression\n",
    "from sklearn import neighbors\n",
    "from sklearn import tree\n",
    "from sklearn import svm\n",
    "from sklearn.ensemble import RandomForestClassifier\n",
    "from sklearn.naive_bayes import GaussianNB\n",
    "from sklearn.naive_bayes import MultinomialNB\n",
    "model_params = {\n",
    "    'logistic_regression' : {\n",
    "        'model': LogisticRegression(solver='liblinear',multi_class='auto'),\n",
    "        'params': {\n",
    "            'C': [1,5,10,20]\n",
    "        }\n",
    "    },\n",
    "    'KNN': {\n",
    "        'model': neighbors.KNeighborsClassifier(),\n",
    "        'params' : {\n",
    "            'n_neighbors' : range(1,100),\n",
    "            'weights' : ['uniform','distance']\n",
    "        }\n",
    "    }, \n",
    "    'decision trees': {\n",
    "        'model' : tree.DecisionTreeClassifier(),\n",
    "        'params' : {\n",
    "            'criterion' : ['gini','entropy'],\n",
    "            'splitter' : ['best','random']\n",
    "        }\n",
    "    },\n",
    "    'svm': {\n",
    "        'model': svm.SVC(gamma='auto'),\n",
    "        'params' : {\n",
    "            'C': [1,5,10,20],\n",
    "            'kernel': ['rbf','linear','sigmoid']\n",
    "        }  \n",
    "    },\n",
    "    'random_forest': {\n",
    "        'model': RandomForestClassifier(),\n",
    "        'params' : {\n",
    "            'n_estimators': [1,5,10,20],\n",
    "            'criterion': ['gini', 'entropy'],\n",
    "        }\n",
    "    }\n",
    "}"
   ]
  },
  {
   "cell_type": "code",
   "execution_count": null,
   "id": "08803619",
   "metadata": {},
   "outputs": [],
   "source": [
    "from sklearn.model_selection import GridSearchCV\n",
    "scores = []\n",
    "\n",
    "for model_name, mp in model_params.items():\n",
    "    clf =  GridSearchCV(mp['model'], mp['params'], cv=5, return_train_score=False)\n",
    "    clf.fit(X_train, y_train)\n",
    "    scores.append({\n",
    "        'model': model_name,\n",
    "        'best_score': clf.best_score_,\n",
    "        'best_params': clf.best_params_\n",
    "    })\n",
    "    \n",
    "df = pd.DataFrame(scores,columns=['model','best_score','best_params'])\n",
    "df"
   ]
  },
  {
   "cell_type": "code",
   "execution_count": null,
   "id": "d1e36ec2",
   "metadata": {},
   "outputs": [],
   "source": [
    "log = LogisticRegression(solver='liblinear',multi_class='auto',C = 10)\n",
    "KNN = neighbors.KNeighborsClassifier(n_neighbors = 59, weights = 'uniform')\n",
    "dt = tree.DecisionTreeClassifier(criterion = 'gini',splitter = 'best')\n",
    "svm = svm.SVC(gamma='auto',C = 1,kernel = 'rbf')\n",
    "rf = RandomForestClassifier(criterion = 'gini', n_estimators = 20)\n",
    "log.fit(X_train,y_train)\n",
    "KNN.fit(X_train,y_train)\n",
    "dt.fit(X_train,y_train)\n",
    "svm.fit(X_train,y_train)\n",
    "rf.fit(X_train,y_train)"
   ]
  },
  {
   "cell_type": "code",
   "execution_count": null,
   "id": "98237e5d",
   "metadata": {},
   "outputs": [],
   "source": [
    "log_predicted = log.predict(X_test)\n",
    "KNN_predicted = KNN.predict(X_test)\n",
    "dt_predicted = dt.predict(X_test)\n",
    "svm_predicted = svm.predict(X_test)\n",
    "rf_predicted = rf.predict(X_test)"
   ]
  },
  {
   "cell_type": "code",
   "execution_count": null,
   "id": "7bfa504a",
   "metadata": {},
   "outputs": [],
   "source": [
    "#classification accuracy\n",
    "from sklearn.metrics import accuracy_score\n",
    "print('logistic regression:',accuracy_score(y_test,log_predicted))\n",
    "print('KNN:',accuracy_score(y_test,KNN_predicted))\n",
    "print('decision trees:',accuracy_score(y_test,dt_predicted))\n",
    "print('svm:',accuracy_score(y_test,svm_predicted))\n",
    "print('random forest:',accuracy_score(y_test,rf_predicted))"
   ]
  },
  {
   "cell_type": "code",
   "execution_count": null,
   "id": "2955f570",
   "metadata": {},
   "outputs": [],
   "source": [
    "from sklearn.metrics import precision_score\n",
    "print('logistic regression:',precision_score(y_test,log_predicted))\n",
    "print('KNN:',precision_score(y_test,KNN_predicted))\n",
    "print('decision trees:',precision_score(y_test,dt_predicted))\n",
    "print('svm:',precision_score(y_test,svm_predicted))\n",
    "print('random forest:',precision_score(y_test,rf_predicted))"
   ]
  },
  {
   "cell_type": "code",
   "execution_count": null,
   "id": "0c6a559d",
   "metadata": {},
   "outputs": [],
   "source": [
    "from sklearn.metrics import recall_score\n",
    "print('logistic regression:',recall_score(y_test,log_predicted))\n",
    "print('KNN:',recall_score(y_test,KNN_predicted))\n",
    "print('decision trees:',recall_score(y_test,dt_predicted))\n",
    "print('svm:',recall_score(y_test,svm_predicted))\n",
    "print('random forest:',recall_score(y_test,rf_predicted))"
   ]
  },
  {
   "cell_type": "code",
   "execution_count": null,
   "id": "9ff1e32d",
   "metadata": {},
   "outputs": [],
   "source": [
    "from sklearn.metrics import f1_score\n",
    "print('logistic regression:',f1_score(y_test,log_predicted))\n",
    "print('KNN:',f1_score(y_test,KNN_predicted))\n",
    "print('decision trees:',f1_score(y_test,dt_predicted))\n",
    "print('svm:',f1_score(y_test,svm_predicted))\n",
    "print('random forest:',f1_score(y_test,rf_predicted))"
   ]
  },
  {
   "cell_type": "code",
   "execution_count": null,
   "id": "9501c634",
   "metadata": {},
   "outputs": [],
   "source": [
    "\n",
    "gnb.fit(X_train,y_train)\n",
    "gnb.score(X_test,y_test)"
   ]
  },
  {
   "cell_type": "code",
   "execution_count": null,
   "id": "96d99e5e",
   "metadata": {},
   "outputs": [],
   "source": [
    "# data_test = pd.read_csv(\"test.csv\")\n",
    "# p = data_test['PassengerId']\n",
    "# data_test.drop(['PassengerId','Name','Ticket'],axis=1,inplace = True)"
   ]
  },
  {
   "cell_type": "code",
   "execution_count": null,
   "id": "86616b6d",
   "metadata": {},
   "outputs": [],
   "source": [
    "# data_test.drop(['Cabin'],axis=1,inplace = True)\n",
    "# data_test['Fare'] = data_test['Fare'].fillna(data_test['Fare'].mean())"
   ]
  },
  {
   "cell_type": "code",
   "execution_count": null,
   "id": "5bd6da99",
   "metadata": {},
   "outputs": [],
   "source": [
    "# A = impute_it.transform(data_test[cols])\n",
    "# A = pd.DataFrame(A)\n",
    "# B = impute_knn.transform(data_test[cols])\n",
    "# data_test.drop(['Age'],axis = 1,inplace=True)\n",
    "# B = pd.DataFrame(B)\n",
    "# data_test['Age'] = (A.iloc[:,4]+B.iloc[:,4])/2\n",
    "# from sklearn.preprocessing import LabelEncoder\n",
    "# label = LabelEncoder()\n",
    "# data_test['Gender'] = label.fit_transform(data_test['Sex'])\n",
    "# data_test['embarked'] = label.fit_transform(data_test['Embarked'])\n",
    "# data_test.drop(['Sex',\"Embarked\"],axis=1,inplace=True)"
   ]
  },
  {
   "cell_type": "code",
   "execution_count": null,
   "id": "24166388",
   "metadata": {},
   "outputs": [],
   "source": [
    "# data_test = pd.DataFrame(s.transform(data_test))"
   ]
  },
  {
   "cell_type": "code",
   "execution_count": null,
   "id": "df5fb7b4",
   "metadata": {},
   "outputs": [],
   "source": [
    "# surv = svm.predict(data_test)"
   ]
  },
  {
   "cell_type": "code",
   "execution_count": null,
   "id": "a888c0a0",
   "metadata": {},
   "outputs": [],
   "source": [
    "# df = pd.DataFrame({'PassengerId': np.array(p),'Survived':surv})\n",
    "# df.to_csv(\"submission.csv\")"
   ]
  }
 ],
 "metadata": {
  "kernelspec": {
   "display_name": "Python 3 (ipykernel)",
   "language": "python",
   "name": "python3"
  },
  "language_info": {
   "codemirror_mode": {
    "name": "ipython",
    "version": 3
   },
   "file_extension": ".py",
   "mimetype": "text/x-python",
   "name": "python",
   "nbconvert_exporter": "python",
   "pygments_lexer": "ipython3",
   "version": "3.9.7"
  }
 },
 "nbformat": 4,
 "nbformat_minor": 5
}
