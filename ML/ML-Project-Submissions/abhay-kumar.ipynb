{
 "cells": [
  {
   "cell_type": "markdown",
   "metadata": {},
   "source": [
    "Using the <a href=\"https://www.kaggle.com/datasets/kumarajarshi/life-expectancy-who\">Life Expectancy (WHO)</a> dataset we intend to predict average life expectancy of a country, with the given data"
   ]
  },
  {
   "cell_type": "markdown",
   "metadata": {},
   "source": [
    "First stage would be Cleaning of data, which going to be the crux of the notebook<br>\n",
    "Followed by dealing with Outliers, Skewness in data, both of which are harmful to the model<br>\n"
   ]
  },
  {
   "cell_type": "markdown",
   "metadata": {},
   "source": [
    "For the part(ie. modelling) we use various method like Linear Regression, Polynomial Regression, KNN, SVM, Decision Trees, Random Forest<br>\n",
    "Depending on the need Ensambling may also be done<br>"
   ]
  },
  {
   "cell_type": "markdown",
   "metadata": {},
   "source": [
    "<a href=\"https://www.kaggle.com/kaiju8/dsg-project-1\">Here</a> is the link to the Kaggle Notebook "
   ]
  }
 ],
 "metadata": {
  "kernelspec": {
   "display_name": "Python 3",
   "language": "python",
   "name": "python3"
  },
  "language_info": {
   "codemirror_mode": {
    "name": "ipython",
    "version": 3
   },
   "file_extension": ".py",
   "mimetype": "text/x-python",
   "name": "python",
   "nbconvert_exporter": "python",
   "pygments_lexer": "ipython3",
   "version": "3.7.0"
  }
 },
 "nbformat": 4,
 "nbformat_minor": 2
}
