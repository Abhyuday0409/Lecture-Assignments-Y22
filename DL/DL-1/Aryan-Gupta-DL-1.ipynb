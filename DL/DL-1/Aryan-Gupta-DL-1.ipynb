{
  "cells": [
    {
      "cell_type": "markdown",
      "metadata": {
        "id": "e4RnlALYiTfX"
      },
      "source": [
        "\n",
        "<h1 style=\"text-align:center\">Neural Network Assignment</h1>\n",
        "\n",
        "\n"
      ]
    },
    {
      "cell_type": "markdown",
      "metadata": {},
      "source": [
        "<h4 style = \"text-align:right\"> - Aryan Gupta\n",
        "</h4>"
      ]
    },
    {
      "cell_type": "code",
      "execution_count": 51,
      "metadata": {
        "id": "deqY5veipVHN"
      },
      "outputs": [],
      "source": [
        "# importing packages\n",
        "\n",
        "import torch\n",
        "import torch.nn as nn\n",
        "import torchvision.transforms as transforms\n",
        "import matplotlib.pyplot as plt\n",
        "\n",
        "# device configuration\n",
        "device = torch.device(\"cuda\" if torch.cuda.is_available() else \"cpu\")\n",
        "\n",
        "# hyperparameters\n",
        "input_size = 28*28 #784\n",
        "hidden_size = 100\n",
        "num_of_classes = 10\n",
        "num_epochs = 4\n",
        "batch_size = 50\n",
        "learning_rate =0.001\n"
      ]
    },
    {
      "cell_type": "code",
      "execution_count": 38,
      "metadata": {
        "id": "xl8I4RMep-SJ"
      },
      "outputs": [],
      "source": [
        "# Distorted MNIST Dataset\n",
        "# train data loader\n",
        "import torch\n",
        "import torchvision\n",
        "from torch.utils.data import Dataset, DataLoader\n",
        "import numpy as np\n",
        "import math\n",
        "\n",
        "class DistortedMNIST(Dataset):\n",
        "  def __init__(self):\n",
        "    # data loading\n",
        "    xy = np.loadtxt(\"/content/train.csv\", delimiter=\",\", dtype = np.float32, skiprows=1)\n",
        "    self.x = torch.from_numpy(xy[:,1:]).view(-1, 1, 28,28)\n",
        "    self.y = torch.from_numpy(xy[:,0]) # n_samples,1\n",
        "    self.num_of_samples = xy.shape[0]\n",
        "\n",
        "  def __getitem__(self, index):\n",
        "    # dataset[0]\n",
        "    return self.x[index], self.y[index]\n",
        "  def __len__(self):\n",
        "    # len(dataset) \n",
        "    return self.num_of_samples\n",
        "\n",
        "train_datasets = DistortedMNIST()\n",
        "\n",
        "# test dataset formulation class\n",
        "class DistortedMNIST_test(Dataset):\n",
        "  # implement init with self\n",
        "  def __init__(self):\n",
        "    # data loading\n",
        "    x = np.loadtxt(\"/content/test.csv\", delimiter=\",\", dtype = np.float32, skiprows=1)\n",
        "    self.x = torch.from_numpy(x).view(-1, 1, 28,28)\n",
        "    self.num_of_samples = x.shape[0]\n",
        "  def __len__(self):\n",
        "    # len(dataset) \n",
        "    return self.num_of_samples\n",
        "\n"
      ]
    },
    {
      "cell_type": "code",
      "execution_count": 39,
      "metadata": {
        "id": "RnS79jdcwtwS"
      },
      "outputs": [],
      "source": [
        "train_datasets = DistortedMNIST()\n",
        "test_datasets = DistortedMNIST_test()"
      ]
    },
    {
      "cell_type": "code",
      "execution_count": 58,
      "metadata": {
        "colab": {
          "base_uri": "https://localhost:8080/"
        },
        "id": "T-GUWiJO47Rd",
        "outputId": "e61b96be-9b6f-4ba6-8460-70b6af29b652"
      },
      "outputs": [
        {
          "name": "stdout",
          "output_type": "stream",
          "text": [
            "40858\n"
          ]
        }
      ],
      "source": [
        "print(train_datasets.__len__())"
      ]
    },
    {
      "cell_type": "code",
      "execution_count": 53,
      "metadata": {
        "colab": {
          "base_uri": "https://localhost:8080/"
        },
        "id": "M3EqHL1xpY4-",
        "outputId": "45b5a084-baa4-4c05-cb1b-9e302319a8a4"
      },
      "outputs": [
        {
          "name": "stdout",
          "output_type": "stream",
          "text": [
            "torch.Size([50, 1, 28, 28]) torch.Size([50])\n"
          ]
        }
      ],
      "source": [
        "train_loader = torch.utils.data.DataLoader(dataset=train_datasets, batch_size=batch_size, shuffle=True)\n",
        "test_loader = torch.utils.data.DataLoader(dataset=test_datasets, batch_size=batch_size, shuffle=False)\n",
        "\n",
        "examples = iter(train_loader)\n",
        "samples, labels = examples.next()\n",
        "print(samples.shape, labels.shape)"
      ]
    },
    {
      "cell_type": "code",
      "execution_count": 42,
      "metadata": {
        "colab": {
          "base_uri": "https://localhost:8080/",
          "height": 809
        },
        "id": "PM_XajkYpZlv",
        "outputId": "8fd6ee5e-7e30-4b96-f32a-c0de7a6fb0f3"
      },
      "outputs": [
        {
          "data": {
            "image/png": "[encoded data removed]",
            "text/plain": [
              "<Figure size 432x288 with 1 Axes>"
            ]
          },
          "metadata": {
            "needs_background": "light"
          },
          "output_type": "display_data"
        },
        {
          "data": {
            "image/png": "[encoded data removed]",
            "text/plain": [
              "<Figure size 432x288 with 1 Axes>"
            ]
          },
          "metadata": {
            "needs_background": "light"
          },
          "output_type": "display_data"
        },
        {
          "data": {
            "image/png": "[encoded data removed]",
            "text/plain": [
              "<Figure size 432x288 with 1 Axes>"
            ]
          },
          "metadata": {
            "needs_background": "light"
          },
          "output_type": "display_data"
        },
        {
          "data": {
            "image/png": "[encoded data removed]",
            "text/plain": [
              "<Figure size 432x288 with 1 Axes>"
            ]
          },
          "metadata": {
            "needs_background": "light"
          },
          "output_type": "display_data"
        },
        {
          "data": {
            "image/png": "[encoded data removed]",
            "text/plain": [
              "<Figure size 432x288 with 1 Axes>"
            ]
          },
          "metadata": {
            "needs_background": "light"
          },
          "output_type": "display_data"
        },
        {
          "data": {
            "image/png": "[encoded data removed]",
            "text/plain": [
              "<Figure size 432x288 with 1 Axes>"
            ]
          },
          "metadata": {
            "needs_background": "light"
          },
          "output_type": "display_data"
        }
      ],
      "source": [
        "for i in range(6):\n",
        "  plt.subplot(2,3,i+1)\n",
        "  plt.imshow(samples[i][0], cmap=\"gray\")\n",
        "  plt.show()"
      ]
    },
    {
      "cell_type": "code",
      "execution_count": 54,
      "metadata": {
        "colab": {
          "base_uri": "https://localhost:8080/"
        },
        "id": "rZsnuSC9pd7W",
        "outputId": "3dbe4b6d-844f-4691-840f-00f6778c4a4a"
      },
      "outputs": [
        {
          "name": "stdout",
          "output_type": "stream",
          "text": [
            "epoch 1/4 , step 100/818, loss = 0.5679\n",
            "epoch 1/4 , step 200/818, loss = 0.7050\n",
            "epoch 1/4 , step 300/818, loss = 0.5353\n",
            "epoch 1/4 , step 400/818, loss = 0.1722\n",
            "epoch 1/4 , step 500/818, loss = 0.1355\n",
            "epoch 1/4 , step 600/818, loss = 0.2547\n",
            "epoch 1/4 , step 700/818, loss = 0.2041\n",
            "epoch 1/4 , step 800/818, loss = 0.1565\n",
            "epoch 2/4 , step 100/818, loss = 0.1446\n",
            "epoch 2/4 , step 200/818, loss = 0.3903\n",
            "epoch 2/4 , step 300/818, loss = 0.1453\n",
            "epoch 2/4 , step 400/818, loss = 0.0833\n",
            "epoch 2/4 , step 500/818, loss = 0.1303\n",
            "epoch 2/4 , step 600/818, loss = 0.2306\n",
            "epoch 2/4 , step 700/818, loss = 0.0450\n",
            "epoch 2/4 , step 800/818, loss = 0.1686\n",
            "epoch 3/4 , step 100/818, loss = 0.0374\n",
            "epoch 3/4 , step 200/818, loss = 0.2180\n",
            "epoch 3/4 , step 300/818, loss = 0.4096\n",
            "epoch 3/4 , step 400/818, loss = 0.1889\n",
            "epoch 3/4 , step 500/818, loss = 0.1230\n",
            "epoch 3/4 , step 600/818, loss = 0.1295\n",
            "epoch 3/4 , step 700/818, loss = 0.0608\n",
            "epoch 3/4 , step 800/818, loss = 0.1660\n",
            "epoch 4/4 , step 100/818, loss = 0.2799\n",
            "epoch 4/4 , step 200/818, loss = 0.1277\n",
            "epoch 4/4 , step 300/818, loss = 0.0298\n",
            "epoch 4/4 , step 400/818, loss = 0.0829\n",
            "epoch 4/4 , step 500/818, loss = 0.0025\n",
            "epoch 4/4 , step 600/818, loss = 0.0331\n",
            "epoch 4/4 , step 700/818, loss = 0.2069\n",
            "epoch 4/4 , step 800/818, loss = 0.1660\n"
          ]
        }
      ],
      "source": [
        "# defining the neural network\n",
        "class NeuralNetwork(nn.Module):\n",
        "  def __init__(self, input_size, hidden_size, num_classes):\n",
        "    super(NeuralNetwork, self).__init__()\n",
        "    self.l1 = nn.Linear(input_size, hidden_size)\n",
        "    self.relu = nn.ReLU()\n",
        "    self.l2 = nn.Linear(hidden_size, num_classes)\n",
        "  def forward(self, x):\n",
        "    out = self.l1(x)\n",
        "    out = self.relu(out)\n",
        "    out = self.l2(out)\n",
        "    return out\n",
        "model = NeuralNetwork(input_size, hidden_size, num_of_classes)\n",
        "\n",
        "# loss and optimizer\n",
        "criterion = nn.CrossEntropyLoss()\n",
        "optimizer = torch.optim.Adam(model.parameters(), lr = learning_rate)\n",
        "\n",
        "# training loops\n",
        "n_total_steps = len(train_loader)\n",
        "for epoch in range(num_epochs):\n",
        "  for i,(images, labels) in enumerate(train_loader):\n",
        "    # 100, 1, 28, 28\n",
        "    # 100, 784\n",
        "    images = images.reshape(-1, 28*28).to(device)\n",
        "    labels = labels.long().to(device)\n",
        "\n",
        "    # forward\n",
        "    output = model(images)\n",
        "    loss = criterion(output, labels)\n",
        "\n",
        "    # backward pass\n",
        "    optimizer.zero_grad()\n",
        "    loss.backward()\n",
        "    optimizer.step()\n",
        "\n",
        "    if (i+1)%100 == 0:\n",
        "      print(f\"epoch {epoch+1}/{num_epochs} , step {i+1}/{n_total_steps}, loss = {loss.item():.4f}\")\n"
      ]
    },
    {
      "cell_type": "code",
      "execution_count": 55,
      "metadata": {
        "colab": {
          "base_uri": "https://localhost:8080/"
        },
        "id": "UUAC6FvPpfTW",
        "outputId": "8063baa2-12ec-4674-8c77-a23bcc80efda"
      },
      "outputs": [
        {
          "name": "stdout",
          "output_type": "stream",
          "text": [
            "Training accuracy on a sample: 96.3948308776739\n"
          ]
        }
      ],
      "source": [
        "# training acuracy on one sample\n",
        "examples = iter(train_loader)\n",
        "with torch.no_grad():\n",
        "  n_correct = 0\n",
        "  n_samples = 0\n",
        "  for i,(images, labels) in enumerate(examples):\n",
        "    # 100, 1, 28, 28\n",
        "    # 100, 784\n",
        "    images = images.reshape(-1, 28*28).to(device)\n",
        "    labels = labels.to(device)\n",
        "    outputs = model(images)\n",
        "    a, predictions = torch.max(outputs,1)\n",
        "    n_samples += labels.shape[0]\n",
        "    n_correct += (predictions==labels).sum().item()\n",
        "  train_accuracy = 100.0 *(n_correct/ n_samples)\n",
        "  print(f\"Training accuracy on a sample: {train_accuracy}\")"
      ]
    }
  ],
  "metadata": {
    "colab": {
      "collapsed_sections": [],
      "name": "Untitled7.ipynb",
      "provenance": []
    },
    "kernelspec": {
      "display_name": "Python 3",
      "name": "python3"
    },
    "language_info": {
      "name": "python"
    }
  },
  "nbformat": 4,
  "nbformat_minor": 0
}
